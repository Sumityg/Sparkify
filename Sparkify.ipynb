{
 "cells": [
  {
   "cell_type": "markdown",
   "metadata": {},
   "source": [
    "# Sparkify Project Workspace\n",
    "This workspace contains a tiny subset (128MB) of the full dataset available (12GB). Feel free to use this workspace to build your project, or to explore a smaller subset with Spark before deploying your cluster on the cloud. Instructions for setting up your Spark cluster is included in the last lesson of the Extracurricular Spark Course content.\n",
    "\n",
    "You can follow the steps below to guide your data analysis and model building portion of this project."
   ]
  },
  {
   "cell_type": "code",
   "execution_count": 1,
   "metadata": {},
   "outputs": [],
   "source": [
    "# import libraries\n",
    "from pyspark.sql import SparkSession\n",
    "from pyspark.sql.functions import udf\n",
    "from pyspark.sql.types import StringType\n",
    "from pyspark.sql.types import IntegerType\n",
    "from pyspark.sql.functions import desc\n",
    "from pyspark.sql.functions import asc\n",
    "from pyspark.sql.functions import sum as Fsum\n",
    "from pyspark.ml.linalg import Vectors\n",
    "from pyspark.ml.feature import VectorAssembler\n",
    "from pyspark.ml.feature import StandardScaler\n",
    "from pyspark.ml.classification import LogisticRegression,RandomForestClassifier,GBTClassifier,DecisionTreeClassifier\n",
    "from pyspark.ml.evaluation import MulticlassClassificationEvaluator\n",
    "from pyspark.ml.tuning import CrossValidator,ParamGridBuilder\n",
    "from pyspark.ml.tuning import ParamGridBuilder\n",
    "from pyspark.sql.types import DateType\n",
    "from pyspark.sql import functions as F\n",
    "from pyspark.sql.functions import from_unixtime\n",
    "import numpy as np\n",
    "\n",
    "import datetime\n",
    "\n",
    "import numpy as np\n",
    "import pandas as pd\n",
    "%matplotlib inline\n",
    "import matplotlib.pyplot as plt"
   ]
  },
  {
   "cell_type": "code",
   "execution_count": 2,
   "metadata": {},
   "outputs": [],
   "source": [
    "# create a Spark session\n",
    "spark=SparkSession\\\n",
    ".builder\\\n",
    ".appName(\"The Capstone Project\")\\\n",
    ".getOrCreate()\n"
   ]
  },
  {
   "cell_type": "markdown",
   "metadata": {},
   "source": [
    "# Load and Clean Dataset\n",
    "In this workspace, the mini-dataset file is `mini_sparkify_event_data.json`. Load and clean the dataset, checking for invalid or missing data - for example, records without userids or sessionids. "
   ]
  },
  {
   "cell_type": "code",
   "execution_count": 3,
   "metadata": {},
   "outputs": [],
   "source": [
    "path=\"mini_sparkify_event_data.json\"\n",
    "user_log=spark.read.json(path)"
   ]
  },
  {
   "cell_type": "code",
   "execution_count": 4,
   "metadata": {},
   "outputs": [
    {
     "data": {
      "text/plain": [
       "Row(artist='Martha Tilston', auth='Logged In', firstName='Colin', gender='M', itemInSession=50, lastName='Freeman', length=277.89016, level='paid', location='Bakersfield, CA', method='PUT', page='NextSong', registration=1538173362000, sessionId=29, song='Rockpools', status=200, ts=1538352117000, userAgent='Mozilla/5.0 (Windows NT 6.1; WOW64; rv:31.0) Gecko/20100101 Firefox/31.0', userId='30')"
      ]
     },
     "execution_count": 4,
     "metadata": {},
     "output_type": "execute_result"
    }
   ],
   "source": [
    "#Looking at the first row of the dataset\n",
    "user_log.head()"
   ]
  },
  {
   "cell_type": "code",
   "execution_count": 5,
   "metadata": {},
   "outputs": [
    {
     "name": "stdout",
     "output_type": "stream",
     "text": [
      "root\n",
      " |-- artist: string (nullable = true)\n",
      " |-- auth: string (nullable = true)\n",
      " |-- firstName: string (nullable = true)\n",
      " |-- gender: string (nullable = true)\n",
      " |-- itemInSession: long (nullable = true)\n",
      " |-- lastName: string (nullable = true)\n",
      " |-- length: double (nullable = true)\n",
      " |-- level: string (nullable = true)\n",
      " |-- location: string (nullable = true)\n",
      " |-- method: string (nullable = true)\n",
      " |-- page: string (nullable = true)\n",
      " |-- registration: long (nullable = true)\n",
      " |-- sessionId: long (nullable = true)\n",
      " |-- song: string (nullable = true)\n",
      " |-- status: long (nullable = true)\n",
      " |-- ts: long (nullable = true)\n",
      " |-- userAgent: string (nullable = true)\n",
      " |-- userId: string (nullable = true)\n",
      "\n"
     ]
    }
   ],
   "source": [
    "#Let us check the schema of this dataset\n",
    "user_log.printSchema()"
   ]
  },
  {
   "cell_type": "code",
   "execution_count": 6,
   "metadata": {},
   "outputs": [
    {
     "name": "stdout",
     "output_type": "stream",
     "text": [
      "+------+\n",
      "|userId|\n",
      "+------+\n",
      "|      |\n",
      "|    10|\n",
      "|   100|\n",
      "|100001|\n",
      "|100002|\n",
      "|100003|\n",
      "|100004|\n",
      "|100005|\n",
      "|100006|\n",
      "|100007|\n",
      "|100008|\n",
      "|100009|\n",
      "|100010|\n",
      "|100011|\n",
      "|100012|\n",
      "|100013|\n",
      "|100014|\n",
      "|100015|\n",
      "|100016|\n",
      "|100017|\n",
      "+------+\n",
      "only showing top 20 rows\n",
      "\n",
      "+---------+\n",
      "|sessionId|\n",
      "+---------+\n",
      "|        1|\n",
      "|        2|\n",
      "|        3|\n",
      "|        4|\n",
      "|        5|\n",
      "|        6|\n",
      "|        7|\n",
      "|        8|\n",
      "|        9|\n",
      "|       10|\n",
      "|       11|\n",
      "|       12|\n",
      "|       13|\n",
      "|       15|\n",
      "|       16|\n",
      "|       17|\n",
      "|       18|\n",
      "|       19|\n",
      "|       20|\n",
      "|       21|\n",
      "+---------+\n",
      "only showing top 20 rows\n",
      "\n"
     ]
    }
   ],
   "source": [
    "#Let us see the distinct userIds from the data\n",
    "user_log.select(\"userId\").dropDuplicates().sort(\"userId\").show()\n",
    "\n",
    "#Let us see all the distinct session Ids from the data\n",
    "user_log.select(\"sessionId\").dropDuplicates().sort(\"sessionId\").show()\n"
   ]
  },
  {
   "cell_type": "code",
   "execution_count": 7,
   "metadata": {},
   "outputs": [
    {
     "name": "stdout",
     "output_type": "stream",
     "text": [
      "286500\n"
     ]
    },
    {
     "data": {
      "text/plain": [
       "286500"
      ]
     },
     "execution_count": 7,
     "metadata": {},
     "output_type": "execute_result"
    }
   ],
   "source": [
    "#Let us see the number of users in the dataset\n",
    "print(user_log.count())\n",
    "\n",
    "#Let us try deleting the rows with any missing value\n",
    "user_log_valid=user_log.dropna(how=\"any\",subset=[\"userId\",\"sessionId\"])\n",
    "user_log_valid.count()"
   ]
  },
  {
   "cell_type": "markdown",
   "metadata": {},
   "source": [
    "Now,since we can see that there are no missing values in both the userId and the sessionId column but there are \" \" values in the userId column,so we will drop the rows with these values.\n"
   ]
  },
  {
   "cell_type": "code",
   "execution_count": 8,
   "metadata": {},
   "outputs": [
    {
     "data": {
      "text/plain": [
       "278154"
      ]
     },
     "execution_count": 8,
     "metadata": {},
     "output_type": "execute_result"
    }
   ],
   "source": [
    "user_log_valid=user_log_valid.filter(user_log_valid[\"userId\"]!=\"\")\n",
    "user_log_valid.count()"
   ]
  },
  {
   "cell_type": "markdown",
   "metadata": {},
   "source": [
    "# Exploratory Data Analysis\n",
    "When you're working with the full dataset, perform EDA by loading a small subset of the data and doing basic manipulations within Spark. In this workspace, you are already provided a small subset of data you can explore.\n",
    "\n",
    "### Define Churn\n",
    "\n",
    "Once you've done some preliminary analysis, create a column `Churn` to use as the label for your model. I suggest using the `Cancellation Confirmation` events to define your churn, which happen for both paid and free users. As a bonus task, you can also look into the `Downgrade` events.\n",
    "\n",
    "### Explore Data\n",
    "Once you've defined churn, perform some exploratory data analysis to observe the behavior for users who stayed vs users who churned. You can start by exploring aggregates on these two groups of users, observing how much of a specific action they experienced per a certain time unit or number of songs played."
   ]
  },
  {
   "cell_type": "code",
   "execution_count": 9,
   "metadata": {},
   "outputs": [],
   "source": [
    "#Let us try to convert the time to date and hours\n",
    "user_log_valid=user_log_valid.withColumn('actual_date', from_unixtime(F.col('ts')/1000).alias('date'))\n",
    "get_hour = udf(lambda x: datetime.datetime.fromtimestamp(x / 1000.0). hour)\n",
    "user_log_valid=user_log_valid.withColumn('hour',get_hour(user_log.ts))"
   ]
  },
  {
   "cell_type": "code",
   "execution_count": 10,
   "metadata": {},
   "outputs": [
    {
     "data": {
      "text/plain": [
       "[Row(artist='Martha Tilston', auth='Logged In', firstName='Colin', gender='M', itemInSession=50, lastName='Freeman', length=277.89016, level='paid', location='Bakersfield, CA', method='PUT', page='NextSong', registration=1538173362000, sessionId=29, song='Rockpools', status=200, ts=1538352117000, userAgent='Mozilla/5.0 (Windows NT 6.1; WOW64; rv:31.0) Gecko/20100101 Firefox/31.0', userId='30', actual_date='2018-10-01 00:01:57', hour='0'),\n",
       " Row(artist='Five Iron Frenzy', auth='Logged In', firstName='Micah', gender='M', itemInSession=79, lastName='Long', length=236.09424, level='free', location='Boston-Cambridge-Newton, MA-NH', method='PUT', page='NextSong', registration=1538331630000, sessionId=8, song='Canada', status=200, ts=1538352180000, userAgent='\"Mozilla/5.0 (Windows NT 6.1; WOW64) AppleWebKit/537.36 (KHTML, like Gecko) Chrome/37.0.2062.103 Safari/537.36\"', userId='9', actual_date='2018-10-01 00:03:00', hour='0'),\n",
       " Row(artist='Adam Lambert', auth='Logged In', firstName='Colin', gender='M', itemInSession=51, lastName='Freeman', length=282.8273, level='paid', location='Bakersfield, CA', method='PUT', page='NextSong', registration=1538173362000, sessionId=29, song='Time For Miracles', status=200, ts=1538352394000, userAgent='Mozilla/5.0 (Windows NT 6.1; WOW64; rv:31.0) Gecko/20100101 Firefox/31.0', userId='30', actual_date='2018-10-01 00:06:34', hour='0'),\n",
       " Row(artist='Enigma', auth='Logged In', firstName='Micah', gender='M', itemInSession=80, lastName='Long', length=262.71302, level='free', location='Boston-Cambridge-Newton, MA-NH', method='PUT', page='NextSong', registration=1538331630000, sessionId=8, song='Knocking On Forbidden Doors', status=200, ts=1538352416000, userAgent='\"Mozilla/5.0 (Windows NT 6.1; WOW64) AppleWebKit/537.36 (KHTML, like Gecko) Chrome/37.0.2062.103 Safari/537.36\"', userId='9', actual_date='2018-10-01 00:06:56', hour='0'),\n",
       " Row(artist='Daft Punk', auth='Logged In', firstName='Colin', gender='M', itemInSession=52, lastName='Freeman', length=223.60771, level='paid', location='Bakersfield, CA', method='PUT', page='NextSong', registration=1538173362000, sessionId=29, song='Harder Better Faster Stronger', status=200, ts=1538352676000, userAgent='Mozilla/5.0 (Windows NT 6.1; WOW64; rv:31.0) Gecko/20100101 Firefox/31.0', userId='30', actual_date='2018-10-01 00:11:16', hour='0'),\n",
       " Row(artist='The All-American Rejects', auth='Logged In', firstName='Micah', gender='M', itemInSession=81, lastName='Long', length=208.29995, level='free', location='Boston-Cambridge-Newton, MA-NH', method='PUT', page='NextSong', registration=1538331630000, sessionId=8, song=\"Don't Leave Me\", status=200, ts=1538352678000, userAgent='\"Mozilla/5.0 (Windows NT 6.1; WOW64) AppleWebKit/537.36 (KHTML, like Gecko) Chrome/37.0.2062.103 Safari/537.36\"', userId='9', actual_date='2018-10-01 00:11:18', hour='0'),\n",
       " Row(artist='The Velvet Underground / Nico', auth='Logged In', firstName='Micah', gender='M', itemInSession=82, lastName='Long', length=260.46649, level='free', location='Boston-Cambridge-Newton, MA-NH', method='PUT', page='NextSong', registration=1538331630000, sessionId=8, song='Run Run Run', status=200, ts=1538352886000, userAgent='\"Mozilla/5.0 (Windows NT 6.1; WOW64) AppleWebKit/537.36 (KHTML, like Gecko) Chrome/37.0.2062.103 Safari/537.36\"', userId='9', actual_date='2018-10-01 00:14:46', hour='0'),\n",
       " Row(artist='Starflyer 59', auth='Logged In', firstName='Colin', gender='M', itemInSession=53, lastName='Freeman', length=185.44281, level='paid', location='Bakersfield, CA', method='PUT', page='NextSong', registration=1538173362000, sessionId=29, song='Passengers (Old Album Version)', status=200, ts=1538352899000, userAgent='Mozilla/5.0 (Windows NT 6.1; WOW64; rv:31.0) Gecko/20100101 Firefox/31.0', userId='30', actual_date='2018-10-01 00:14:59', hour='0'),\n",
       " Row(artist=None, auth='Logged In', firstName='Colin', gender='M', itemInSession=54, lastName='Freeman', length=None, level='paid', location='Bakersfield, CA', method='PUT', page='Add to Playlist', registration=1538173362000, sessionId=29, song=None, status=200, ts=1538352905000, userAgent='Mozilla/5.0 (Windows NT 6.1; WOW64; rv:31.0) Gecko/20100101 Firefox/31.0', userId='30', actual_date='2018-10-01 00:15:05', hour='0'),\n",
       " Row(artist='Frumpies', auth='Logged In', firstName='Colin', gender='M', itemInSession=55, lastName='Freeman', length=134.47791, level='paid', location='Bakersfield, CA', method='PUT', page='NextSong', registration=1538173362000, sessionId=29, song='Fuck Kitty', status=200, ts=1538353084000, userAgent='Mozilla/5.0 (Windows NT 6.1; WOW64; rv:31.0) Gecko/20100101 Firefox/31.0', userId='30', actual_date='2018-10-01 00:18:04', hour='0')]"
      ]
     },
     "execution_count": 10,
     "metadata": {},
     "output_type": "execute_result"
    }
   ],
   "source": [
    "user_log_valid.head(10)"
   ]
  },
  {
   "cell_type": "code",
   "execution_count": 11,
   "metadata": {},
   "outputs": [
    {
     "name": "stdout",
     "output_type": "stream",
     "text": [
      "root\n",
      " |-- artist: string (nullable = true)\n",
      " |-- auth: string (nullable = true)\n",
      " |-- firstName: string (nullable = true)\n",
      " |-- gender: string (nullable = true)\n",
      " |-- itemInSession: long (nullable = true)\n",
      " |-- lastName: string (nullable = true)\n",
      " |-- length: double (nullable = true)\n",
      " |-- level: string (nullable = true)\n",
      " |-- location: string (nullable = true)\n",
      " |-- method: string (nullable = true)\n",
      " |-- page: string (nullable = true)\n",
      " |-- registration: long (nullable = true)\n",
      " |-- sessionId: long (nullable = true)\n",
      " |-- song: string (nullable = true)\n",
      " |-- status: long (nullable = true)\n",
      " |-- ts: long (nullable = true)\n",
      " |-- userAgent: string (nullable = true)\n",
      " |-- userId: string (nullable = true)\n",
      " |-- actual_date: string (nullable = true)\n",
      " |-- hour: string (nullable = true)\n",
      "\n"
     ]
    }
   ],
   "source": [
    "#Let us see the schema of this dataframe now\n",
    "user_log_valid.printSchema()"
   ]
  },
  {
   "cell_type": "code",
   "execution_count": 12,
   "metadata": {},
   "outputs": [
    {
     "name": "stdout",
     "output_type": "stream",
     "text": [
      "+--------------------+\n",
      "|                page|\n",
      "+--------------------+\n",
      "|              Cancel|\n",
      "|    Submit Downgrade|\n",
      "|         Thumbs Down|\n",
      "|                Home|\n",
      "|           Downgrade|\n",
      "|         Roll Advert|\n",
      "|              Logout|\n",
      "|       Save Settings|\n",
      "|Cancellation Conf...|\n",
      "|               About|\n",
      "|            Settings|\n",
      "|     Add to Playlist|\n",
      "|          Add Friend|\n",
      "|            NextSong|\n",
      "|           Thumbs Up|\n",
      "|                Help|\n",
      "|             Upgrade|\n",
      "|               Error|\n",
      "|      Submit Upgrade|\n",
      "+--------------------+\n",
      "\n"
     ]
    }
   ],
   "source": [
    "#Let us try to evaluate the page column to see what distinct values it contains\n",
    "user_log_valid.select(\"page\").distinct().show()"
   ]
  },
  {
   "cell_type": "markdown",
   "metadata": {},
   "source": [
    "## Churn: \n",
    "We are defining a customer as churned when he visits the page \"Cancellation Confirmation\".Using this definition,we will add a column named Churn in our datset"
   ]
  },
  {
   "cell_type": "code",
   "execution_count": 13,
   "metadata": {},
   "outputs": [],
   "source": [
    "user_churn=user_log_valid.filter(user_log_valid.page==\"Cancellation Confirmation\").select(\"userId\").dropDuplicates()\n",
    "churned_users=[(row['userId']) for row in user_churn.collect()]\n",
    "df_churn=user_log_valid.withColumn(\"Churn\",(user_log_valid.userId.isin(churned_users)))"
   ]
  },
  {
   "cell_type": "code",
   "execution_count": 14,
   "metadata": {},
   "outputs": [
    {
     "data": {
      "text/plain": [
       "[Row(artist='Martha Tilston', auth='Logged In', firstName='Colin', gender='M', itemInSession=50, lastName='Freeman', length=277.89016, level='paid', location='Bakersfield, CA', method='PUT', page='NextSong', registration=1538173362000, sessionId=29, song='Rockpools', status=200, ts=1538352117000, userAgent='Mozilla/5.0 (Windows NT 6.1; WOW64; rv:31.0) Gecko/20100101 Firefox/31.0', userId='30', actual_date='2018-10-01 00:01:57', hour='0', Churn=False),\n",
       " Row(artist='Five Iron Frenzy', auth='Logged In', firstName='Micah', gender='M', itemInSession=79, lastName='Long', length=236.09424, level='free', location='Boston-Cambridge-Newton, MA-NH', method='PUT', page='NextSong', registration=1538331630000, sessionId=8, song='Canada', status=200, ts=1538352180000, userAgent='\"Mozilla/5.0 (Windows NT 6.1; WOW64) AppleWebKit/537.36 (KHTML, like Gecko) Chrome/37.0.2062.103 Safari/537.36\"', userId='9', actual_date='2018-10-01 00:03:00', hour='0', Churn=False),\n",
       " Row(artist='Adam Lambert', auth='Logged In', firstName='Colin', gender='M', itemInSession=51, lastName='Freeman', length=282.8273, level='paid', location='Bakersfield, CA', method='PUT', page='NextSong', registration=1538173362000, sessionId=29, song='Time For Miracles', status=200, ts=1538352394000, userAgent='Mozilla/5.0 (Windows NT 6.1; WOW64; rv:31.0) Gecko/20100101 Firefox/31.0', userId='30', actual_date='2018-10-01 00:06:34', hour='0', Churn=False),\n",
       " Row(artist='Enigma', auth='Logged In', firstName='Micah', gender='M', itemInSession=80, lastName='Long', length=262.71302, level='free', location='Boston-Cambridge-Newton, MA-NH', method='PUT', page='NextSong', registration=1538331630000, sessionId=8, song='Knocking On Forbidden Doors', status=200, ts=1538352416000, userAgent='\"Mozilla/5.0 (Windows NT 6.1; WOW64) AppleWebKit/537.36 (KHTML, like Gecko) Chrome/37.0.2062.103 Safari/537.36\"', userId='9', actual_date='2018-10-01 00:06:56', hour='0', Churn=False),\n",
       " Row(artist='Daft Punk', auth='Logged In', firstName='Colin', gender='M', itemInSession=52, lastName='Freeman', length=223.60771, level='paid', location='Bakersfield, CA', method='PUT', page='NextSong', registration=1538173362000, sessionId=29, song='Harder Better Faster Stronger', status=200, ts=1538352676000, userAgent='Mozilla/5.0 (Windows NT 6.1; WOW64; rv:31.0) Gecko/20100101 Firefox/31.0', userId='30', actual_date='2018-10-01 00:11:16', hour='0', Churn=False),\n",
       " Row(artist='The All-American Rejects', auth='Logged In', firstName='Micah', gender='M', itemInSession=81, lastName='Long', length=208.29995, level='free', location='Boston-Cambridge-Newton, MA-NH', method='PUT', page='NextSong', registration=1538331630000, sessionId=8, song=\"Don't Leave Me\", status=200, ts=1538352678000, userAgent='\"Mozilla/5.0 (Windows NT 6.1; WOW64) AppleWebKit/537.36 (KHTML, like Gecko) Chrome/37.0.2062.103 Safari/537.36\"', userId='9', actual_date='2018-10-01 00:11:18', hour='0', Churn=False),\n",
       " Row(artist='The Velvet Underground / Nico', auth='Logged In', firstName='Micah', gender='M', itemInSession=82, lastName='Long', length=260.46649, level='free', location='Boston-Cambridge-Newton, MA-NH', method='PUT', page='NextSong', registration=1538331630000, sessionId=8, song='Run Run Run', status=200, ts=1538352886000, userAgent='\"Mozilla/5.0 (Windows NT 6.1; WOW64) AppleWebKit/537.36 (KHTML, like Gecko) Chrome/37.0.2062.103 Safari/537.36\"', userId='9', actual_date='2018-10-01 00:14:46', hour='0', Churn=False),\n",
       " Row(artist='Starflyer 59', auth='Logged In', firstName='Colin', gender='M', itemInSession=53, lastName='Freeman', length=185.44281, level='paid', location='Bakersfield, CA', method='PUT', page='NextSong', registration=1538173362000, sessionId=29, song='Passengers (Old Album Version)', status=200, ts=1538352899000, userAgent='Mozilla/5.0 (Windows NT 6.1; WOW64; rv:31.0) Gecko/20100101 Firefox/31.0', userId='30', actual_date='2018-10-01 00:14:59', hour='0', Churn=False),\n",
       " Row(artist=None, auth='Logged In', firstName='Colin', gender='M', itemInSession=54, lastName='Freeman', length=None, level='paid', location='Bakersfield, CA', method='PUT', page='Add to Playlist', registration=1538173362000, sessionId=29, song=None, status=200, ts=1538352905000, userAgent='Mozilla/5.0 (Windows NT 6.1; WOW64; rv:31.0) Gecko/20100101 Firefox/31.0', userId='30', actual_date='2018-10-01 00:15:05', hour='0', Churn=False),\n",
       " Row(artist='Frumpies', auth='Logged In', firstName='Colin', gender='M', itemInSession=55, lastName='Freeman', length=134.47791, level='paid', location='Bakersfield, CA', method='PUT', page='NextSong', registration=1538173362000, sessionId=29, song='Fuck Kitty', status=200, ts=1538353084000, userAgent='Mozilla/5.0 (Windows NT 6.1; WOW64; rv:31.0) Gecko/20100101 Firefox/31.0', userId='30', actual_date='2018-10-01 00:18:04', hour='0', Churn=False),\n",
       " Row(artist='Britt Nicole', auth='Logged In', firstName='Micah', gender='M', itemInSession=83, lastName='Long', length=229.8771, level='free', location='Boston-Cambridge-Newton, MA-NH', method='PUT', page='NextSong', registration=1538331630000, sessionId=8, song='Walk On The Water', status=200, ts=1538353146000, userAgent='\"Mozilla/5.0 (Windows NT 6.1; WOW64) AppleWebKit/537.36 (KHTML, like Gecko) Chrome/37.0.2062.103 Safari/537.36\"', userId='9', actual_date='2018-10-01 00:19:06', hour='0', Churn=False),\n",
       " Row(artist=None, auth='Logged In', firstName='Micah', gender='M', itemInSession=84, lastName='Long', length=None, level='free', location='Boston-Cambridge-Newton, MA-NH', method='GET', page='Roll Advert', registration=1538331630000, sessionId=8, song=None, status=200, ts=1538353150000, userAgent='\"Mozilla/5.0 (Windows NT 6.1; WOW64) AppleWebKit/537.36 (KHTML, like Gecko) Chrome/37.0.2062.103 Safari/537.36\"', userId='9', actual_date='2018-10-01 00:19:10', hour='0', Churn=False),\n",
       " Row(artist='Edward Sharpe & The Magnetic Zeros', auth='Logged In', firstName='Colin', gender='M', itemInSession=56, lastName='Freeman', length=223.58159, level='paid', location='Bakersfield, CA', method='PUT', page='NextSong', registration=1538173362000, sessionId=29, song='Jade', status=200, ts=1538353218000, userAgent='Mozilla/5.0 (Windows NT 6.1; WOW64; rv:31.0) Gecko/20100101 Firefox/31.0', userId='30', actual_date='2018-10-01 00:20:18', hour='0', Churn=False),\n",
       " Row(artist='Tesla', auth='Logged In', firstName='Micah', gender='M', itemInSession=85, lastName='Long', length=201.06404, level='free', location='Boston-Cambridge-Newton, MA-NH', method='PUT', page='NextSong', registration=1538331630000, sessionId=8, song=\"Gettin' Better\", status=200, ts=1538353375000, userAgent='\"Mozilla/5.0 (Windows NT 6.1; WOW64) AppleWebKit/537.36 (KHTML, like Gecko) Chrome/37.0.2062.103 Safari/537.36\"', userId='9', actual_date='2018-10-01 00:22:55', hour='0', Churn=False),\n",
       " Row(artist=None, auth='Logged In', firstName='Micah', gender='M', itemInSession=86, lastName='Long', length=None, level='free', location='Boston-Cambridge-Newton, MA-NH', method='PUT', page='Thumbs Up', registration=1538331630000, sessionId=8, song=None, status=307, ts=1538353376000, userAgent='\"Mozilla/5.0 (Windows NT 6.1; WOW64) AppleWebKit/537.36 (KHTML, like Gecko) Chrome/37.0.2062.103 Safari/537.36\"', userId='9', actual_date='2018-10-01 00:22:56', hour='0', Churn=False),\n",
       " Row(artist='Stan Mosley', auth='Logged In', firstName='Colin', gender='M', itemInSession=57, lastName='Freeman', length=246.69995, level='paid', location='Bakersfield, CA', method='PUT', page='NextSong', registration=1538173362000, sessionId=29, song='So-Called Friends', status=200, ts=1538353441000, userAgent='Mozilla/5.0 (Windows NT 6.1; WOW64; rv:31.0) Gecko/20100101 Firefox/31.0', userId='30', actual_date='2018-10-01 00:24:01', hour='0', Churn=False),\n",
       " Row(artist='Florence + The Machine', auth='Logged In', firstName='Micah', gender='M', itemInSession=87, lastName='Long', length=168.64608, level='free', location='Boston-Cambridge-Newton, MA-NH', method='PUT', page='NextSong', registration=1538331630000, sessionId=8, song=\"You've Got The Love\", status=200, ts=1538353576000, userAgent='\"Mozilla/5.0 (Windows NT 6.1; WOW64) AppleWebKit/537.36 (KHTML, like Gecko) Chrome/37.0.2062.103 Safari/537.36\"', userId='9', actual_date='2018-10-01 00:26:16', hour='0', Churn=False),\n",
       " Row(artist='Tokyo Police Club', auth='Logged In', firstName='Ashlynn', gender='F', itemInSession=0, lastName='Williams', length=166.1122, level='free', location='Tallahassee, FL', method='PUT', page='NextSong', registration=1537365219000, sessionId=217, song='Citizens Of Tomorrow', status=200, ts=1538353668000, userAgent='\"Mozilla/5.0 (Macintosh; Intel Mac OS X 10_9_4) AppleWebKit/537.36 (KHTML, like Gecko) Chrome/37.0.2062.94 Safari/537.36\"', userId='74', actual_date='2018-10-01 00:27:48', hour='0', Churn=False),\n",
       " Row(artist='Orishas', auth='Logged In', firstName='Colin', gender='M', itemInSession=58, lastName='Freeman', length=222.22322, level='paid', location='Bakersfield, CA', method='PUT', page='NextSong', registration=1538173362000, sessionId=29, song='Represent', status=200, ts=1538353687000, userAgent='Mozilla/5.0 (Windows NT 6.1; WOW64; rv:31.0) Gecko/20100101 Firefox/31.0', userId='30', actual_date='2018-10-01 00:28:07', hour='0', Churn=False),\n",
       " Row(artist='Ratatat', auth='Logged In', firstName='Micah', gender='M', itemInSession=88, lastName='Long', length=229.77261, level='free', location='Boston-Cambridge-Newton, MA-NH', method='PUT', page='NextSong', registration=1538331630000, sessionId=8, song='Swisha', status=200, ts=1538353744000, userAgent='\"Mozilla/5.0 (Windows NT 6.1; WOW64) AppleWebKit/537.36 (KHTML, like Gecko) Chrome/37.0.2062.103 Safari/537.36\"', userId='9', actual_date='2018-10-01 00:29:04', hour='0', Churn=False),\n",
       " Row(artist='Manolo Garcia', auth='Logged In', firstName='Ashlynn', gender='F', itemInSession=1, lastName='Williams', length=283.74159, level='free', location='Tallahassee, FL', method='PUT', page='NextSong', registration=1537365219000, sessionId=217, song='Carbon Y Ramas Secas', status=200, ts=1538353834000, userAgent='\"Mozilla/5.0 (Macintosh; Intel Mac OS X 10_9_4) AppleWebKit/537.36 (KHTML, like Gecko) Chrome/37.0.2062.94 Safari/537.36\"', userId='74', actual_date='2018-10-01 00:30:34', hour='0', Churn=False),\n",
       " Row(artist='Downhere', auth='Logged In', firstName='Colin', gender='M', itemInSession=59, lastName='Freeman', length=223.92118, level='paid', location='Bakersfield, CA', method='PUT', page='NextSong', registration=1538173362000, sessionId=29, song='Here I Am', status=200, ts=1538353909000, userAgent='Mozilla/5.0 (Windows NT 6.1; WOW64; rv:31.0) Gecko/20100101 Firefox/31.0', userId='30', actual_date='2018-10-01 00:31:49', hour='0', Churn=False),\n",
       " Row(artist='Modjo', auth='Logged In', firstName='Alexi', gender='F', itemInSession=0, lastName='Warren', length=250.93179, level='paid', location='Spokane-Spokane Valley, WA', method='PUT', page='NextSong', registration=1532482662000, sessionId=53, song='What I Mean', status=200, ts=1538353930000, userAgent='Mozilla/5.0 (Windows NT 6.1; WOW64; rv:32.0) Gecko/20100101 Firefox/32.0', userId='54', actual_date='2018-10-01 00:32:10', hour='0', Churn=True),\n",
       " Row(artist='MÃ\\x83Â¶tley CrÃ\\x83Â¼e', auth='Logged In', firstName='Micah', gender='M', itemInSession=89, lastName='Long', length=231.26159, level='free', location='Boston-Cambridge-Newton, MA-NH', method='PUT', page='NextSong', registration=1538331630000, sessionId=8, song='Sticky Sweet', status=200, ts=1538353973000, userAgent='\"Mozilla/5.0 (Windows NT 6.1; WOW64) AppleWebKit/537.36 (KHTML, like Gecko) Chrome/37.0.2062.103 Safari/537.36\"', userId='9', actual_date='2018-10-01 00:32:53', hour='0', Churn=False),\n",
       " Row(artist='David Bowie', auth='Logged In', firstName='Ashlynn', gender='F', itemInSession=2, lastName='Williams', length=174.41914, level='free', location='Tallahassee, FL', method='PUT', page='NextSong', registration=1537365219000, sessionId=217, song='Sorrow (1997 Digital Remaster)', status=200, ts=1538354117000, userAgent='\"Mozilla/5.0 (Macintosh; Intel Mac OS X 10_9_4) AppleWebKit/537.36 (KHTML, like Gecko) Chrome/37.0.2062.94 Safari/537.36\"', userId='74', actual_date='2018-10-01 00:35:17', hour='0', Churn=False),\n",
       " Row(artist='Skillet', auth='Logged In', firstName='Colin', gender='M', itemInSession=60, lastName='Freeman', length=233.32526, level='paid', location='Bakersfield, CA', method='PUT', page='NextSong', registration=1538173362000, sessionId=29, song='Rebirthing (Album Version)', status=200, ts=1538354132000, userAgent='Mozilla/5.0 (Windows NT 6.1; WOW64; rv:31.0) Gecko/20100101 Firefox/31.0', userId='30', actual_date='2018-10-01 00:35:32', hour='0', Churn=False),\n",
       " Row(artist='Edwyn Collins', auth='Logged In', firstName='Alexi', gender='F', itemInSession=1, lastName='Warren', length=216.842, level='paid', location='Spokane-Spokane Valley, WA', method='PUT', page='NextSong', registration=1532482662000, sessionId=53, song=\"You'll Never Know (My Love) (Bovellian 07 Mix)\", status=200, ts=1538354180000, userAgent='Mozilla/5.0 (Windows NT 6.1; WOW64; rv:32.0) Gecko/20100101 Firefox/32.0', userId='54', actual_date='2018-10-01 00:36:20', hour='0', Churn=True),\n",
       " Row(artist='Telepopmusik', auth='Logged In', firstName='Micah', gender='M', itemInSession=90, lastName='Long', length=241.60608, level='free', location='Boston-Cambridge-Newton, MA-NH', method='PUT', page='NextSong', registration=1538331630000, sessionId=8, song='Smile', status=200, ts=1538354204000, userAgent='\"Mozilla/5.0 (Windows NT 6.1; WOW64) AppleWebKit/537.36 (KHTML, like Gecko) Chrome/37.0.2062.103 Safari/537.36\"', userId='9', actual_date='2018-10-01 00:36:44', hour='0', Churn=False),\n",
       " Row(artist='Kings Of Leon', auth='Logged In', firstName='Ashlynn', gender='F', itemInSession=3, lastName='Williams', length=307.46077, level='free', location='Tallahassee, FL', method='PUT', page='NextSong', registration=1537365219000, sessionId=217, song='I Want You', status=200, ts=1538354291000, userAgent='\"Mozilla/5.0 (Macintosh; Intel Mac OS X 10_9_4) AppleWebKit/537.36 (KHTML, like Gecko) Chrome/37.0.2062.94 Safari/537.36\"', userId='74', actual_date='2018-10-01 00:38:11', hour='0', Churn=False),\n",
       " Row(artist='Florence + The Machine', auth='Logged In', firstName='Colin', gender='M', itemInSession=61, lastName='Freeman', length=219.66322, level='paid', location='Bakersfield, CA', method='PUT', page='NextSong', registration=1538173362000, sessionId=29, song='Dog Days Are Over (Radio Edit)', status=200, ts=1538354365000, userAgent='Mozilla/5.0 (Windows NT 6.1; WOW64; rv:31.0) Gecko/20100101 Firefox/31.0', userId='30', actual_date='2018-10-01 00:39:25', hour='0', Churn=False),\n",
       " Row(artist='Coldplay', auth='Logged In', firstName='Alexi', gender='F', itemInSession=2, lastName='Warren', length=343.32689, level='paid', location='Spokane-Spokane Valley, WA', method='PUT', page='NextSong', registration=1532482662000, sessionId=53, song='For You', status=200, ts=1538354396000, userAgent='Mozilla/5.0 (Windows NT 6.1; WOW64; rv:32.0) Gecko/20100101 Firefox/32.0', userId='54', actual_date='2018-10-01 00:39:56', hour='0', Churn=True),\n",
       " Row(artist='Nine Inch Nails', auth='Logged In', firstName='Micah', gender='M', itemInSession=91, lastName='Long', length=373.2371, level='free', location='Boston-Cambridge-Newton, MA-NH', method='PUT', page='NextSong', registration=1538331630000, sessionId=8, song='Closer', status=200, ts=1538354445000, userAgent='\"Mozilla/5.0 (Windows NT 6.1; WOW64) AppleWebKit/537.36 (KHTML, like Gecko) Chrome/37.0.2062.103 Safari/537.36\"', userId='9', actual_date='2018-10-01 00:40:45', hour='0', Churn=False),\n",
       " Row(artist='Nick Drake', auth='Logged In', firstName='Colin', gender='M', itemInSession=62, lastName='Freeman', length=222.92853, level='paid', location='Bakersfield, CA', method='PUT', page='NextSong', registration=1538173362000, sessionId=29, song='Tomorrow Is A Long Time', status=200, ts=1538354584000, userAgent='Mozilla/5.0 (Windows NT 6.1; WOW64; rv:31.0) Gecko/20100101 Firefox/31.0', userId='30', actual_date='2018-10-01 00:43:04', hour='0', Churn=False),\n",
       " Row(artist='Campo', auth='Logged In', firstName='Ashlynn', gender='F', itemInSession=4, lastName='Williams', length=429.50485, level='free', location='Tallahassee, FL', method='PUT', page='NextSong', registration=1537365219000, sessionId=217, song='Mi CorazÃ\\x83Â³n', status=200, ts=1538354598000, userAgent='\"Mozilla/5.0 (Macintosh; Intel Mac OS X 10_9_4) AppleWebKit/537.36 (KHTML, like Gecko) Chrome/37.0.2062.94 Safari/537.36\"', userId='74', actual_date='2018-10-01 00:43:18', hour='0', Churn=False),\n",
       " Row(artist='Kix', auth='Logged In', firstName='Alexi', gender='F', itemInSession=3, lastName='Warren', length=246.25587, level='paid', location='Spokane-Spokane Valley, WA', method='PUT', page='NextSong', registration=1532482662000, sessionId=53, song='Girl Money', status=200, ts=1538354739000, userAgent='Mozilla/5.0 (Windows NT 6.1; WOW64; rv:32.0) Gecko/20100101 Firefox/32.0', userId='54', actual_date='2018-10-01 00:45:39', hour='0', Churn=True),\n",
       " Row(artist=None, auth='Logged In', firstName='Alexi', gender='F', itemInSession=4, lastName='Warren', length=None, level='paid', location='Spokane-Spokane Valley, WA', method='GET', page='Downgrade', registration=1532482662000, sessionId=53, song=None, status=200, ts=1538354749000, userAgent='Mozilla/5.0 (Windows NT 6.1; WOW64; rv:32.0) Gecko/20100101 Firefox/32.0', userId='54', actual_date='2018-10-01 00:45:49', hour='0', Churn=True),\n",
       " Row(artist='Lambert_ Hendricks & Ross', auth='Logged In', firstName='Colin', gender='M', itemInSession=63, lastName='Freeman', length=139.04934, level='paid', location='Bakersfield, CA', method='PUT', page='NextSong', registration=1538173362000, sessionId=29, song='Halloween Spooks', status=200, ts=1538354806000, userAgent='Mozilla/5.0 (Windows NT 6.1; WOW64; rv:31.0) Gecko/20100101 Firefox/31.0', userId='30', actual_date='2018-10-01 00:46:46', hour='0', Churn=False),\n",
       " Row(artist='Edgar Oceransky', auth='Logged In', firstName='Micah', gender='M', itemInSession=92, lastName='Long', length=309.62893, level='free', location='Boston-Cambridge-Newton, MA-NH', method='PUT', page='NextSong', registration=1538331630000, sessionId=8, song='Demasiado Bueno', status=200, ts=1538354818000, userAgent='\"Mozilla/5.0 (Windows NT 6.1; WOW64) AppleWebKit/537.36 (KHTML, like Gecko) Chrome/37.0.2062.103 Safari/537.36\"', userId='9', actual_date='2018-10-01 00:46:58', hour='0', Churn=False),\n",
       " Row(artist='Kanye West', auth='Logged In', firstName='Colin', gender='M', itemInSession=64, lastName='Freeman', length=311.84934, level='paid', location='Bakersfield, CA', method='PUT', page='NextSong', registration=1538173362000, sessionId=29, song='Stronger', status=200, ts=1538354945000, userAgent='Mozilla/5.0 (Windows NT 6.1; WOW64; rv:31.0) Gecko/20100101 Firefox/31.0', userId='30', actual_date='2018-10-01 00:49:05', hour='0', Churn=False),\n",
       " Row(artist='Eminem', auth='Logged In', firstName='Alexi', gender='F', itemInSession=5, lastName='Warren', length=269.03465, level='paid', location='Spokane-Spokane Valley, WA', method='PUT', page='NextSong', registration=1532482662000, sessionId=53, song='My Name Is', status=200, ts=1538354985000, userAgent='Mozilla/5.0 (Windows NT 6.1; WOW64; rv:32.0) Gecko/20100101 Firefox/32.0', userId='54', actual_date='2018-10-01 00:49:45', hour='0', Churn=True)]"
      ]
     },
     "execution_count": 14,
     "metadata": {},
     "output_type": "execute_result"
    }
   ],
   "source": [
    "#Let us see the first row of this dataframe\n",
    "df_churn.head(40)"
   ]
  },
  {
   "cell_type": "code",
   "execution_count": 15,
   "metadata": {},
   "outputs": [
    {
     "name": "stdout",
     "output_type": "stream",
     "text": [
      "+----+-----+\n",
      "|hour|count|\n",
      "+----+-----+\n",
      "|   0| 9062|\n",
      "|   1| 8388|\n",
      "|   2| 8336|\n",
      "|   3| 8355|\n",
      "|   4| 8147|\n",
      "|   5| 8178|\n",
      "|   6| 8054|\n",
      "|   7| 8091|\n",
      "|   8| 8253|\n",
      "|   9| 8498|\n",
      "|  10| 8882|\n",
      "|  11| 8830|\n",
      "|  12| 9326|\n",
      "|  13| 9644|\n",
      "|  14|10494|\n",
      "|  15|11354|\n",
      "|  16|11636|\n",
      "|  17|11460|\n",
      "|  18|11124|\n",
      "|  19|10930|\n",
      "+----+-----+\n",
      "only showing top 20 rows\n",
      "\n"
     ]
    }
   ],
   "source": [
    "#Let us see the number of songs being played hour wise\n",
    "song_in_hour= df_churn.filter(df_churn.page == \"NextSong\").groupby(df_churn.hour).count().orderBy(df_churn.hour.cast(\"float\"))\n",
    "song_in_hour.show()"
   ]
  },
  {
   "cell_type": "code",
   "execution_count": 16,
   "metadata": {},
   "outputs": [],
   "source": [
    "#Let us try plotting a scatterplot to see the number of songs played every hour\n",
    "song_in_hour_pd=song_in_hour.toPandas()\n",
    "song_in_hour_pd.hour=pd.to_numeric(song_in_hour_pd.hour)"
   ]
  },
  {
   "cell_type": "code",
   "execution_count": null,
   "metadata": {},
   "outputs": [],
   "source": [
    "#The kernel keeps dying when I plot this plot.So,I have not executed this cell again\n",
    "plt.scatter(song_in_hour_pd[\"hour\"],song_in_hour[\"count\"])\n",
    "plt.xlim(-1,24)\n",
    "plt.ylim(0,1.2*max(song_in_hour_pd[\"count\"]))\n",
    "plt.xlabel(\"Hour\")\n",
    "plt.ylabel(\"Songs Played\")"
   ]
  },
  {
   "cell_type": "code",
   "execution_count": 17,
   "metadata": {},
   "outputs": [
    {
     "name": "stdout",
     "output_type": "stream",
     "text": [
      "+-----+-----+\n",
      "|Churn|count|\n",
      "+-----+-----+\n",
      "| true|   52|\n",
      "|false|  173|\n",
      "+-----+-----+\n",
      "\n"
     ]
    }
   ],
   "source": [
    "#Let us create the group of churned as well as unchurned users\n",
    "churn_vs_unchurn= df_churn.dropDuplicates(['userId']).groupby(\"Churn\").count()\n",
    "churn_vs_unchurn.show()\n"
   ]
  },
  {
   "cell_type": "code",
   "execution_count": 18,
   "metadata": {},
   "outputs": [
    {
     "data": {
      "text/plain": [
       "<matplotlib.axes._subplots.AxesSubplot at 0x7f4cb359b240>"
      ]
     },
     "execution_count": 18,
     "metadata": {},
     "output_type": "execute_result"
    },
    {
     "data": {
      "image/png": "[encoded data removed]",
      "text/plain": [
       "<matplotlib.figure.Figure at 0x7f4cb3abaef0>"
      ]
     },
     "metadata": {
      "needs_background": "light"
     },
     "output_type": "display_data"
    }
   ],
   "source": [
    "#Plotting the count of churned vs non churned users\n",
    "import seaborn as sns\n",
    "churn_vs_unchurn_pd=churn_vs_unchurn.toPandas()\n",
    "sns.barplot(x='Churn', y='count', data=churn_vs_unchurn_pd)"
   ]
  },
  {
   "cell_type": "markdown",
   "metadata": {},
   "source": [
    "So,from the above plot we can see that out of the total 225 unique users,only 52 have churned whereas 173 have not"
   ]
  },
  {
   "cell_type": "code",
   "execution_count": 19,
   "metadata": {},
   "outputs": [
    {
     "name": "stdout",
     "output_type": "stream",
     "text": [
      "+-----+------+-----+\n",
      "|Churn|gender|count|\n",
      "+-----+------+-----+\n",
      "| true|     F|   20|\n",
      "|false|     M|   89|\n",
      "| true|     M|   32|\n",
      "|false|     F|   84|\n",
      "+-----+------+-----+\n",
      "\n"
     ]
    },
    {
     "data": {
      "text/plain": [
       "<matplotlib.axes._subplots.AxesSubplot at 0x7f4cb14d9390>"
      ]
     },
     "execution_count": 19,
     "metadata": {},
     "output_type": "execute_result"
    },
    {
     "data": {
      "image/png": "[encoded data removed]",
      "text/plain": [
       "<matplotlib.figure.Figure at 0x7f4cb1537cc0>"
      ]
     },
     "metadata": {
      "needs_background": "light"
     },
     "output_type": "display_data"
    }
   ],
   "source": [
    "#Let us see the gender wise seggregation of users\n",
    "churn_vs_unchurn_gender=df_churn.dropDuplicates([\"userId\",\"gender\"]).groupby([\"Churn\",\"gender\"]).count()\n",
    "churn_vs_unchurn_gender.show()\n",
    "churn_vs_unchurn_gender_pd=churn_vs_unchurn_gender.toPandas()\n",
    "sns.barplot(x=\"Churn\",y=\"count\",hue=\"gender\",data=churn_vs_unchurn_gender_pd)\n"
   ]
  },
  {
   "cell_type": "markdown",
   "metadata": {},
   "source": [
    "Out of the 52 churned users,20 are female and 32 are male.So,there is not a lot of difference between these two genders as far as the churned users are concerned"
   ]
  },
  {
   "cell_type": "code",
   "execution_count": 86,
   "metadata": {},
   "outputs": [],
   "source": [
    "#Let us see the pages that were visited by the churned and the unchurned-users\n",
    "churn_count = df_churn.filter(df_churn.Churn==1).count()\n",
    "no_churn_count = df_churn.filter(df_churn.Churn==0).count()\n",
    "\n",
    "df_temp1 = df_churn.filter(df_churn.Churn==1).filter(df_churn.page!=\"NextSong\").groupby([\"page\"]).count()\n",
    "df_temp1 = df_temp1.withColumn(\"Churn Freq\", df_temp1[\"count\"]/(churn_count/100)).sort(\"page\")\n",
    "\n",
    "df_temp2 = df_churn.filter(df_churn.Churn==0).filter(df_churn.page!=\"NextSong\").groupby([\"page\"]).count()\n",
    "df_temp2 = df_temp2.withColumn(\"Nonchurn Freq\", df_temp2[\"count\"]/(no_churn_count/100)).sort(\"page\")\n"
   ]
  },
  {
   "cell_type": "code",
   "execution_count": 87,
   "metadata": {},
   "outputs": [
    {
     "data": {
      "text/plain": [
       "<matplotlib.axes._subplots.AxesSubplot at 0x7f4cb066c4a8>"
      ]
     },
     "execution_count": 87,
     "metadata": {},
     "output_type": "execute_result"
    },
    {
     "data": {
      "image/png": "[encoded data removed]",
      "text/plain": [
       "<matplotlib.figure.Figure at 0x7f4cb10dfa90>"
      ]
     },
     "metadata": {
      "needs_background": "light"
     },
     "output_type": "display_data"
    }
   ],
   "source": [
    "df_pd = df_temp1.join(df_temp2, \"page\", \"outer\").drop(\"count\").fillna(0).toPandas()\n",
    "df_pd.plot.bar(\"page\")"
   ]
  },
  {
   "cell_type": "markdown",
   "metadata": {},
   "source": [
    "From the above visual,we can see that the churned users visited page such as Roll Advert,Thumbs Down and Downgrade pages more than the unchurned users"
   ]
  },
  {
   "cell_type": "code",
   "execution_count": 25,
   "metadata": {},
   "outputs": [
    {
     "name": "stdout",
     "output_type": "stream",
     "text": [
      "+-----+-----+\n",
      "|level|count|\n",
      "+-----+-----+\n",
      "| free|   21|\n",
      "| paid|   31|\n",
      "+-----+-----+\n",
      "\n"
     ]
    },
    {
     "data": {
      "text/plain": [
       "<matplotlib.axes._subplots.AxesSubplot at 0x7f4cb138e940>"
      ]
     },
     "execution_count": 25,
     "metadata": {},
     "output_type": "execute_result"
    },
    {
     "data": {
      "image/png": "[encoded data removed]",
      "text/plain": [
       "<matplotlib.figure.Figure at 0x7f4cb14cada0>"
      ]
     },
     "metadata": {
      "needs_background": "light"
     },
     "output_type": "display_data"
    }
   ],
   "source": [
    "#Let us see how many paid users churned vs free users\n",
    "paid_vs_free_churned=df_churn.filter(df_churn.page==\"Cancellation Confirmation\").groupby([\"level\"]).count()\n",
    "paid_vs_free_churned.show()\n",
    "paid_vs_free_churned_pd=paid_vs_free_churned.toPandas()\n",
    "sns.barplot(x=\"level\",y=\"count\",data=paid_vs_free_churned_pd)"
   ]
  },
  {
   "cell_type": "markdown",
   "metadata": {},
   "source": [
    "From the above visual it is clear that more paid users churned when compared to free users althought the difference between both these groups is not large."
   ]
  },
  {
   "cell_type": "markdown",
   "metadata": {},
   "source": [
    "# Feature Engineering\n",
    "Once you've familiarized yourself with the data, build out the features you find promising to train your model on. To work with the full dataset, you can follow the following steps.\n",
    "- Write a script to extract the necessary features from the smaller subset of data\n",
    "- Ensure that your script is scalable, using the best practices discussed in Lesson 3\n",
    "- Try your script on the full data set, debugging your script if necessary\n",
    "\n",
    "If you are working in the classroom workspace, you can just extract features based on the small subset of data contained here. Be sure to transfer over this work to the larger dataset when you work on your Spark cluster."
   ]
  },
  {
   "cell_type": "markdown",
   "metadata": {},
   "source": [
    "## Extracting features from the datset"
   ]
  },
  {
   "cell_type": "markdown",
   "metadata": {},
   "source": [
    "### 1 Songs played per user"
   ]
  },
  {
   "cell_type": "code",
   "execution_count": 26,
   "metadata": {},
   "outputs": [
    {
     "name": "stdout",
     "output_type": "stream",
     "text": [
      "+------+------------+\n",
      "|userId|songs_played|\n",
      "+------+------------+\n",
      "|100010|         275|\n",
      "|200002|         387|\n",
      "|   125|           8|\n",
      "|    51|        2111|\n",
      "|   124|        4079|\n",
      "|     7|         150|\n",
      "|    54|        2841|\n",
      "|    15|        1914|\n",
      "|   155|         820|\n",
      "|   132|        1928|\n",
      "|   154|          84|\n",
      "|100014|         257|\n",
      "|   101|        1797|\n",
      "|    11|         647|\n",
      "|   138|        2070|\n",
      "|300017|        3632|\n",
      "|    29|        3028|\n",
      "|    69|        1125|\n",
      "|100021|         230|\n",
      "|    42|        3573|\n",
      "|   112|         215|\n",
      "|    87|         767|\n",
      "|    73|         377|\n",
      "|    64|          46|\n",
      "|200010|         237|\n",
      "|     3|         214|\n",
      "|    30|        1417|\n",
      "|   113|        1585|\n",
      "|    34|          53|\n",
      "|   133|          32|\n",
      "|    59|         724|\n",
      "|   146|         650|\n",
      "|   139|         377|\n",
      "|     8|         251|\n",
      "|    28|        1457|\n",
      "|    22|          28|\n",
      "|300018|        1640|\n",
      "|300012|         642|\n",
      "|100022|         681|\n",
      "|    85|        3616|\n",
      "|    52|        1086|\n",
      "|    35|        1610|\n",
      "|    16|         675|\n",
      "|300008|        1393|\n",
      "|    71|         264|\n",
      "|    98|        2401|\n",
      "|300013|         335|\n",
      "|    99|         505|\n",
      "|    47|         202|\n",
      "|100008|         772|\n",
      "+------+------------+\n",
      "only showing top 50 rows\n",
      "\n"
     ]
    }
   ],
   "source": [
    "#Let us get the count of the songs played by each user\n",
    "songs_played_user=df_churn\\\n",
    "                  .filter(df_churn.song!=\"null\")\\\n",
    "                  .select(\"userId\",\"song\")\\\n",
    "                  .groupby(\"userId\")\\\n",
    "                  .count()\\\n",
    "                  .withColumnRenamed(\"count\",\"songs_played\")\n",
    "songs_played_user.show(50)"
   ]
  },
  {
   "cell_type": "markdown",
   "metadata": {},
   "source": [
    "### 2 Errors per user"
   ]
  },
  {
   "cell_type": "code",
   "execution_count": 27,
   "metadata": {},
   "outputs": [
    {
     "name": "stdout",
     "output_type": "stream",
     "text": [
      "+------+------+\n",
      "|userId|Errors|\n",
      "+------+------+\n",
      "|   124|     6|\n",
      "|    51|     1|\n",
      "|     7|     1|\n",
      "|    15|     2|\n",
      "|    54|     1|\n",
      "|   155|     3|\n",
      "|   132|     3|\n",
      "|   101|     3|\n",
      "|    11|     1|\n",
      "|   138|     1|\n",
      "+------+------+\n",
      "only showing top 10 rows\n",
      "\n"
     ]
    }
   ],
   "source": [
    "Errors_per_user=df_churn\\\n",
    "                  .filter(df_churn.page==\"Error\")\\\n",
    "                  .select(\"userId\",\"page\")\\\n",
    "                  .groupby(\"userId\")\\\n",
    "                  .count()\\\n",
    "                  .withColumnRenamed(\"count\",\"Errors\")\n",
    "Errors_per_user.show(10)"
   ]
  },
  {
   "cell_type": "markdown",
   "metadata": {},
   "source": [
    "### 3 Friends added by each user"
   ]
  },
  {
   "cell_type": "code",
   "execution_count": 28,
   "metadata": {},
   "outputs": [
    {
     "name": "stdout",
     "output_type": "stream",
     "text": [
      "+------+-------------+\n",
      "|userId|Friends_Added|\n",
      "+------+-------------+\n",
      "|100010|            4|\n",
      "|200002|            4|\n",
      "|    51|           28|\n",
      "|   124|           74|\n",
      "|     7|            1|\n",
      "|    54|           33|\n",
      "|    15|           31|\n",
      "|   155|           11|\n",
      "|   132|           41|\n",
      "|   154|            3|\n",
      "|100014|            6|\n",
      "|   101|           29|\n",
      "|    11|            6|\n",
      "|   138|           41|\n",
      "|300017|           63|\n",
      "|    29|           47|\n",
      "|    69|           12|\n",
      "|100021|            7|\n",
      "|    42|           52|\n",
      "|   112|            7|\n",
      "+------+-------------+\n",
      "only showing top 20 rows\n",
      "\n"
     ]
    }
   ],
   "source": [
    "Friends_per_user=df_churn\\\n",
    "                  .filter(df_churn.page==\"Add Friend\")\\\n",
    "                  .select(\"userId\",\"page\")\\\n",
    "                  .groupby(\"userId\")\\\n",
    "                  .count()\\\n",
    "                  .withColumnRenamed(\"count\",\"Friends_Added\")\n",
    "Friends_per_user.show(20)"
   ]
  },
  {
   "cell_type": "markdown",
   "metadata": {},
   "source": [
    "### 4 Songs added in Playlist"
   ]
  },
  {
   "cell_type": "code",
   "execution_count": 29,
   "metadata": {},
   "outputs": [
    {
     "name": "stdout",
     "output_type": "stream",
     "text": [
      "+------+-----------+\n",
      "|userId|Songs_Added|\n",
      "+------+-----------+\n",
      "|100010|          7|\n",
      "|200002|          8|\n",
      "|    51|         52|\n",
      "|   124|        118|\n",
      "|     7|          5|\n",
      "|    15|         59|\n",
      "|    54|         72|\n",
      "|   155|         24|\n",
      "|   132|         38|\n",
      "|   154|          1|\n",
      "|100014|          7|\n",
      "|   101|         61|\n",
      "|    11|         20|\n",
      "|   138|         67|\n",
      "|300017|        113|\n",
      "|    29|         89|\n",
      "|    69|         33|\n",
      "|100021|          7|\n",
      "|    42|        104|\n",
      "|   112|          7|\n",
      "+------+-----------+\n",
      "only showing top 20 rows\n",
      "\n"
     ]
    }
   ],
   "source": [
    "Songs_added_per_user=df_churn\\\n",
    "                  .filter(df_churn.page==\"Add to Playlist\")\\\n",
    "                  .select(\"userId\",\"page\")\\\n",
    "                  .groupby(\"userId\")\\\n",
    "                  .count()\\\n",
    "                  .withColumnRenamed(\"count\",\"Songs_Added\")\n",
    "Songs_added_per_user.show(20)"
   ]
  },
  {
   "cell_type": "markdown",
   "metadata": {},
   "source": [
    "### 5 Number of thumbs up"
   ]
  },
  {
   "cell_type": "code",
   "execution_count": 30,
   "metadata": {},
   "outputs": [
    {
     "name": "stdout",
     "output_type": "stream",
     "text": [
      "+------+-----------+\n",
      "|userId|Up_per_user|\n",
      "+------+-----------+\n",
      "|100010|         17|\n",
      "|200002|         21|\n",
      "|    51|        100|\n",
      "|   124|        171|\n",
      "|     7|          7|\n",
      "|    54|        163|\n",
      "|    15|         81|\n",
      "|   155|         58|\n",
      "|   132|         96|\n",
      "|   154|         11|\n",
      "|100014|         17|\n",
      "|   101|         86|\n",
      "|    11|         40|\n",
      "|   138|         95|\n",
      "|300017|        303|\n",
      "|    29|        154|\n",
      "|    69|         72|\n",
      "|100021|         11|\n",
      "|    42|        166|\n",
      "|   112|          9|\n",
      "+------+-----------+\n",
      "only showing top 20 rows\n",
      "\n"
     ]
    }
   ],
   "source": [
    "Up_per_user=df_churn\\\n",
    "                  .filter(df_churn.page==\"Thumbs Up\")\\\n",
    "                  .select(\"userId\",\"page\")\\\n",
    "                  .groupby(\"userId\")\\\n",
    "                  .count()\\\n",
    "                  .withColumnRenamed(\"count\",\"Up_per_user\")\n",
    "Up_per_user.show(20)"
   ]
  },
  {
   "cell_type": "markdown",
   "metadata": {},
   "source": [
    "### 6 Number of thumbs down"
   ]
  },
  {
   "cell_type": "code",
   "execution_count": 31,
   "metadata": {},
   "outputs": [
    {
     "name": "stdout",
     "output_type": "stream",
     "text": [
      "+------+-------------+\n",
      "|userId|Down_per_user|\n",
      "+------+-------------+\n",
      "|100010|            5|\n",
      "|200002|            6|\n",
      "|    51|           21|\n",
      "|   124|           41|\n",
      "|     7|            1|\n",
      "|    15|           14|\n",
      "|    54|           29|\n",
      "|   155|            3|\n",
      "|   132|           17|\n",
      "|100014|            3|\n",
      "|   101|           16|\n",
      "|    11|            9|\n",
      "|   138|           24|\n",
      "|300017|           28|\n",
      "|    29|           22|\n",
      "|    69|            9|\n",
      "|100021|            5|\n",
      "|    42|           25|\n",
      "|   112|            3|\n",
      "|    73|            7|\n",
      "+------+-------------+\n",
      "only showing top 20 rows\n",
      "\n"
     ]
    }
   ],
   "source": [
    "Down_per_user=df_churn\\\n",
    "                  .filter(df_churn.page==\"Thumbs Down\")\\\n",
    "                  .select(\"userId\",\"page\")\\\n",
    "                  .groupby(\"userId\")\\\n",
    "                  .count()\\\n",
    "                  .withColumnRenamed(\"count\",\"Down_per_user\")\n",
    "Down_per_user.show(20)"
   ]
  },
  {
   "cell_type": "markdown",
   "metadata": {},
   "source": [
    "### 7 Number of average songs played by users across session"
   ]
  },
  {
   "cell_type": "code",
   "execution_count": 32,
   "metadata": {},
   "outputs": [
    {
     "name": "stdout",
     "output_type": "stream",
     "text": [
      "+------+------------------+\n",
      "|userId|  avg_songs_played|\n",
      "+------+------------------+\n",
      "|100010|39.285714285714285|\n",
      "|200002|              64.5|\n",
      "|   125|               8.0|\n",
      "|    51|             211.1|\n",
      "|   124|145.67857142857142|\n",
      "|     7|21.428571428571427|\n",
      "|    54| 81.17142857142858|\n",
      "|    15|136.71428571428572|\n",
      "|   155|136.66666666666666|\n",
      "|100014|42.833333333333336|\n",
      "|   132|             120.5|\n",
      "|   154|              28.0|\n",
      "|   101|             179.7|\n",
      "|    11|           40.4375|\n",
      "|300017|59.540983606557376|\n",
      "|   138|             138.0|\n",
      "|    29| 89.05882352941177|\n",
      "|    69|             125.0|\n",
      "|100021|              46.0|\n",
      "|    42| 87.14634146341463|\n",
      "+------+------------------+\n",
      "only showing top 20 rows\n",
      "\n"
     ]
    }
   ],
   "source": [
    "songs_per_session=df_churn\\\n",
    "                  .filter(df_churn.page==\"NextSong\")\\\n",
    "                  .groupby(['userId','sessionId'])\\\n",
    "                  .count()\\\n",
    "                  .groupby(['userId'])\\\n",
    "                  .agg({'count':'avg'})\\\n",
    "                  .withColumnRenamed('avg(count)','avg_songs_played')\n",
    "songs_per_session.show(20)"
   ]
  },
  {
   "cell_type": "markdown",
   "metadata": {},
   "source": [
    "### 8 Total Listening time"
   ]
  },
  {
   "cell_type": "code",
   "execution_count": 88,
   "metadata": {},
   "outputs": [
    {
     "name": "stdout",
     "output_type": "stream",
     "text": [
      "+------+------------------+\n",
      "|userId|    listening_time|\n",
      "+------+------------------+\n",
      "|100010| 66940.89735000003|\n",
      "|200002| 94008.87593999993|\n",
      "|   125|2089.1131000000005|\n",
      "|    51| 523275.8428000004|\n",
      "|   124|1012312.0927899999|\n",
      "|     7| 38034.08710000002|\n",
      "|    54| 711344.9195400011|\n",
      "|    15|477307.60581000015|\n",
      "|   155|       198779.2919|\n",
      "|   132| 483118.9038399997|\n",
      "+------+------------------+\n",
      "only showing top 10 rows\n",
      "\n"
     ]
    }
   ],
   "source": [
    "listen_time=df_churn\\\n",
    "            .select('userId','length')\\\n",
    "            .groupby(['userId'])\\\n",
    "            .sum()\\\n",
    "            .withColumnRenamed('sum(length)','listening_time')\n",
    "\n",
    "listen_time.show(10)"
   ]
  },
  {
   "cell_type": "markdown",
   "metadata": {},
   "source": [
    "### 9 Time since registration"
   ]
  },
  {
   "cell_type": "code",
   "execution_count": 34,
   "metadata": {},
   "outputs": [
    {
     "name": "stdout",
     "output_type": "stream",
     "text": [
      "+------+------------------+\n",
      "|userId|              span|\n",
      "+------+------------------+\n",
      "|100010|  55.6436574074074|\n",
      "|200002| 70.07462962962963|\n",
      "|   125| 71.31688657407408|\n",
      "|    51|19.455844907407407|\n",
      "|   124|131.55591435185184|\n",
      "|     7| 72.77818287037037|\n",
      "|    54|110.75168981481481|\n",
      "|    15|56.513576388888886|\n",
      "|   155|23.556018518518517|\n",
      "|   132|  66.8891087962963|\n",
      "+------+------------------+\n",
      "only showing top 10 rows\n",
      "\n"
     ]
    }
   ],
   "source": [
    "from pyspark.sql.functions import col\n",
    "span=df_churn\\\n",
    "    .select('userId','ts','registration')\\\n",
    "    .withColumn('span',(df_churn.ts-df_churn.registration))\\\n",
    "    .groupby(['userId'])\\\n",
    "    .agg({'span':'max'})\\\n",
    "    .withColumnRenamed('max(span)','span')\\\n",
    "    .select('userId',(col('span')/1000/3600/24).alias('span'))\\\n",
    "\n",
    "span.show(10)\n",
    "    "
   ]
  },
  {
   "cell_type": "markdown",
   "metadata": {},
   "source": [
    "### 10 Gender"
   ]
  },
  {
   "cell_type": "code",
   "execution_count": 35,
   "metadata": {},
   "outputs": [
    {
     "name": "stdout",
     "output_type": "stream",
     "text": [
      "+------+------+\n",
      "|userId|gender|\n",
      "+------+------+\n",
      "|    44|     1|\n",
      "|    46|     1|\n",
      "|    41|     1|\n",
      "|    72|     1|\n",
      "|300023|     1|\n",
      "|    39|     1|\n",
      "|100010|     1|\n",
      "|    40|     1|\n",
      "|    94|     1|\n",
      "|    35|     1|\n",
      "+------+------+\n",
      "only showing top 10 rows\n",
      "\n"
     ]
    }
   ],
   "source": [
    "gender=df_churn\\\n",
    "       .select('userId','gender')\\\n",
    "       .dropDuplicates()\\\n",
    "       .replace(['M','F'],['0','1'],'gender')\\\n",
    "       .select('userId',col('gender').cast('int'))\n",
    "\n",
    "gender.show(10)"
   ]
  },
  {
   "cell_type": "code",
   "execution_count": 36,
   "metadata": {},
   "outputs": [
    {
     "name": "stdout",
     "output_type": "stream",
     "text": [
      "+--------------------+---------+---------+------+-------------+--------+---------+-----+--------------------+------+---------------+-------------+---------+--------------------+------+-------------+--------------------+------+-------------------+----+-----+\n",
      "|              artist|     auth|firstName|gender|itemInSession|lastName|   length|level|            location|method|           page| registration|sessionId|                song|status|           ts|           userAgent|userId|        actual_date|hour|Churn|\n",
      "+--------------------+---------+---------+------+-------------+--------+---------+-----+--------------------+------+---------------+-------------+---------+--------------------+------+-------------+--------------------+------+-------------------+----+-----+\n",
      "|      Martha Tilston|Logged In|    Colin|     M|           50| Freeman|277.89016| paid|     Bakersfield, CA|   PUT|       NextSong|1538173362000|       29|           Rockpools|     0|1538352117000|Mozilla/5.0 (Wind...|    30|2018-10-01 00:01:57|   0|false|\n",
      "|    Five Iron Frenzy|Logged In|    Micah|     M|           79|    Long|236.09424| free|Boston-Cambridge-...|   PUT|       NextSong|1538331630000|        8|              Canada|     0|1538352180000|\"Mozilla/5.0 (Win...|     9|2018-10-01 00:03:00|   0|false|\n",
      "|        Adam Lambert|Logged In|    Colin|     M|           51| Freeman| 282.8273| paid|     Bakersfield, CA|   PUT|       NextSong|1538173362000|       29|   Time For Miracles|     0|1538352394000|Mozilla/5.0 (Wind...|    30|2018-10-01 00:06:34|   0|false|\n",
      "|              Enigma|Logged In|    Micah|     M|           80|    Long|262.71302| free|Boston-Cambridge-...|   PUT|       NextSong|1538331630000|        8|Knocking On Forbi...|     0|1538352416000|\"Mozilla/5.0 (Win...|     9|2018-10-01 00:06:56|   0|false|\n",
      "|           Daft Punk|Logged In|    Colin|     M|           52| Freeman|223.60771| paid|     Bakersfield, CA|   PUT|       NextSong|1538173362000|       29|Harder Better Fas...|     0|1538352676000|Mozilla/5.0 (Wind...|    30|2018-10-01 00:11:16|   0|false|\n",
      "|The All-American ...|Logged In|    Micah|     M|           81|    Long|208.29995| free|Boston-Cambridge-...|   PUT|       NextSong|1538331630000|        8|      Don't Leave Me|     0|1538352678000|\"Mozilla/5.0 (Win...|     9|2018-10-01 00:11:18|   0|false|\n",
      "|The Velvet Underg...|Logged In|    Micah|     M|           82|    Long|260.46649| free|Boston-Cambridge-...|   PUT|       NextSong|1538331630000|        8|         Run Run Run|     0|1538352886000|\"Mozilla/5.0 (Win...|     9|2018-10-01 00:14:46|   0|false|\n",
      "|        Starflyer 59|Logged In|    Colin|     M|           53| Freeman|185.44281| paid|     Bakersfield, CA|   PUT|       NextSong|1538173362000|       29|Passengers (Old A...|     0|1538352899000|Mozilla/5.0 (Wind...|    30|2018-10-01 00:14:59|   0|false|\n",
      "|                null|Logged In|    Colin|     M|           54| Freeman|     null| paid|     Bakersfield, CA|   PUT|Add to Playlist|1538173362000|       29|                null|     0|1538352905000|Mozilla/5.0 (Wind...|    30|2018-10-01 00:15:05|   0|false|\n",
      "|            Frumpies|Logged In|    Colin|     M|           55| Freeman|134.47791| paid|     Bakersfield, CA|   PUT|       NextSong|1538173362000|       29|          Fuck Kitty|     0|1538353084000|Mozilla/5.0 (Wind...|    30|2018-10-01 00:18:04|   0|false|\n",
      "|        Britt Nicole|Logged In|    Micah|     M|           83|    Long| 229.8771| free|Boston-Cambridge-...|   PUT|       NextSong|1538331630000|        8|   Walk On The Water|     0|1538353146000|\"Mozilla/5.0 (Win...|     9|2018-10-01 00:19:06|   0|false|\n",
      "|                null|Logged In|    Micah|     M|           84|    Long|     null| free|Boston-Cambridge-...|   GET|    Roll Advert|1538331630000|        8|                null|     0|1538353150000|\"Mozilla/5.0 (Win...|     9|2018-10-01 00:19:10|   0|false|\n",
      "|Edward Sharpe & T...|Logged In|    Colin|     M|           56| Freeman|223.58159| paid|     Bakersfield, CA|   PUT|       NextSong|1538173362000|       29|                Jade|     0|1538353218000|Mozilla/5.0 (Wind...|    30|2018-10-01 00:20:18|   0|false|\n",
      "|               Tesla|Logged In|    Micah|     M|           85|    Long|201.06404| free|Boston-Cambridge-...|   PUT|       NextSong|1538331630000|        8|      Gettin' Better|     0|1538353375000|\"Mozilla/5.0 (Win...|     9|2018-10-01 00:22:55|   0|false|\n",
      "|                null|Logged In|    Micah|     M|           86|    Long|     null| free|Boston-Cambridge-...|   PUT|      Thumbs Up|1538331630000|        8|                null|     0|1538353376000|\"Mozilla/5.0 (Win...|     9|2018-10-01 00:22:56|   0|false|\n",
      "|         Stan Mosley|Logged In|    Colin|     M|           57| Freeman|246.69995| paid|     Bakersfield, CA|   PUT|       NextSong|1538173362000|       29|   So-Called Friends|     0|1538353441000|Mozilla/5.0 (Wind...|    30|2018-10-01 00:24:01|   0|false|\n",
      "|Florence + The Ma...|Logged In|    Micah|     M|           87|    Long|168.64608| free|Boston-Cambridge-...|   PUT|       NextSong|1538331630000|        8| You've Got The Love|     0|1538353576000|\"Mozilla/5.0 (Win...|     9|2018-10-01 00:26:16|   0|false|\n",
      "|   Tokyo Police Club|Logged In|  Ashlynn|     F|            0|Williams| 166.1122| free|     Tallahassee, FL|   PUT|       NextSong|1537365219000|      217|Citizens Of Tomorrow|     0|1538353668000|\"Mozilla/5.0 (Mac...|    74|2018-10-01 00:27:48|   0|false|\n",
      "|             Orishas|Logged In|    Colin|     M|           58| Freeman|222.22322| paid|     Bakersfield, CA|   PUT|       NextSong|1538173362000|       29|           Represent|     0|1538353687000|Mozilla/5.0 (Wind...|    30|2018-10-01 00:28:07|   0|false|\n",
      "|             Ratatat|Logged In|    Micah|     M|           88|    Long|229.77261| free|Boston-Cambridge-...|   PUT|       NextSong|1538331630000|        8|              Swisha|     0|1538353744000|\"Mozilla/5.0 (Win...|     9|2018-10-01 00:29:04|   0|false|\n",
      "|       Manolo Garcia|Logged In|  Ashlynn|     F|            1|Williams|283.74159| free|     Tallahassee, FL|   PUT|       NextSong|1537365219000|      217|Carbon Y Ramas Secas|     0|1538353834000|\"Mozilla/5.0 (Mac...|    74|2018-10-01 00:30:34|   0|false|\n",
      "|            Downhere|Logged In|    Colin|     M|           59| Freeman|223.92118| paid|     Bakersfield, CA|   PUT|       NextSong|1538173362000|       29|           Here I Am|     0|1538353909000|Mozilla/5.0 (Wind...|    30|2018-10-01 00:31:49|   0|false|\n",
      "|               Modjo|Logged In|    Alexi|     F|            0|  Warren|250.93179| paid|Spokane-Spokane V...|   PUT|       NextSong|1532482662000|       53|         What I Mean|     1|1538353930000|Mozilla/5.0 (Wind...|    54|2018-10-01 00:32:10|   0| true|\n",
      "|   MÃÂ¶tley CrÃÂ¼e|Logged In|    Micah|     M|           89|    Long|231.26159| free|Boston-Cambridge-...|   PUT|       NextSong|1538331630000|        8|        Sticky Sweet|     0|1538353973000|\"Mozilla/5.0 (Win...|     9|2018-10-01 00:32:53|   0|false|\n",
      "|         David Bowie|Logged In|  Ashlynn|     F|            2|Williams|174.41914| free|     Tallahassee, FL|   PUT|       NextSong|1537365219000|      217|Sorrow (1997 Digi...|     0|1538354117000|\"Mozilla/5.0 (Mac...|    74|2018-10-01 00:35:17|   0|false|\n",
      "|             Skillet|Logged In|    Colin|     M|           60| Freeman|233.32526| paid|     Bakersfield, CA|   PUT|       NextSong|1538173362000|       29|Rebirthing (Album...|     0|1538354132000|Mozilla/5.0 (Wind...|    30|2018-10-01 00:35:32|   0|false|\n",
      "|       Edwyn Collins|Logged In|    Alexi|     F|            1|  Warren|  216.842| paid|Spokane-Spokane V...|   PUT|       NextSong|1532482662000|       53|You'll Never Know...|     1|1538354180000|Mozilla/5.0 (Wind...|    54|2018-10-01 00:36:20|   0| true|\n",
      "|        Telepopmusik|Logged In|    Micah|     M|           90|    Long|241.60608| free|Boston-Cambridge-...|   PUT|       NextSong|1538331630000|        8|               Smile|     0|1538354204000|\"Mozilla/5.0 (Win...|     9|2018-10-01 00:36:44|   0|false|\n",
      "|       Kings Of Leon|Logged In|  Ashlynn|     F|            3|Williams|307.46077| free|     Tallahassee, FL|   PUT|       NextSong|1537365219000|      217|          I Want You|     0|1538354291000|\"Mozilla/5.0 (Mac...|    74|2018-10-01 00:38:11|   0|false|\n",
      "|Florence + The Ma...|Logged In|    Colin|     M|           61| Freeman|219.66322| paid|     Bakersfield, CA|   PUT|       NextSong|1538173362000|       29|Dog Days Are Over...|     0|1538354365000|Mozilla/5.0 (Wind...|    30|2018-10-01 00:39:25|   0|false|\n",
      "|            Coldplay|Logged In|    Alexi|     F|            2|  Warren|343.32689| paid|Spokane-Spokane V...|   PUT|       NextSong|1532482662000|       53|             For You|     1|1538354396000|Mozilla/5.0 (Wind...|    54|2018-10-01 00:39:56|   0| true|\n",
      "|     Nine Inch Nails|Logged In|    Micah|     M|           91|    Long| 373.2371| free|Boston-Cambridge-...|   PUT|       NextSong|1538331630000|        8|              Closer|     0|1538354445000|\"Mozilla/5.0 (Win...|     9|2018-10-01 00:40:45|   0|false|\n",
      "|          Nick Drake|Logged In|    Colin|     M|           62| Freeman|222.92853| paid|     Bakersfield, CA|   PUT|       NextSong|1538173362000|       29|Tomorrow Is A Lon...|     0|1538354584000|Mozilla/5.0 (Wind...|    30|2018-10-01 00:43:04|   0|false|\n",
      "|               Campo|Logged In|  Ashlynn|     F|            4|Williams|429.50485| free|     Tallahassee, FL|   PUT|       NextSong|1537365219000|      217|       Mi CorazÃÂ³n|     0|1538354598000|\"Mozilla/5.0 (Mac...|    74|2018-10-01 00:43:18|   0|false|\n",
      "|                 Kix|Logged In|    Alexi|     F|            3|  Warren|246.25587| paid|Spokane-Spokane V...|   PUT|       NextSong|1532482662000|       53|          Girl Money|     1|1538354739000|Mozilla/5.0 (Wind...|    54|2018-10-01 00:45:39|   0| true|\n",
      "|                null|Logged In|    Alexi|     F|            4|  Warren|     null| paid|Spokane-Spokane V...|   GET|      Downgrade|1532482662000|       53|                null|     1|1538354749000|Mozilla/5.0 (Wind...|    54|2018-10-01 00:45:49|   0| true|\n",
      "|Lambert_ Hendrick...|Logged In|    Colin|     M|           63| Freeman|139.04934| paid|     Bakersfield, CA|   PUT|       NextSong|1538173362000|       29|    Halloween Spooks|     0|1538354806000|Mozilla/5.0 (Wind...|    30|2018-10-01 00:46:46|   0|false|\n",
      "|     Edgar Oceransky|Logged In|    Micah|     M|           92|    Long|309.62893| free|Boston-Cambridge-...|   PUT|       NextSong|1538331630000|        8|     Demasiado Bueno|     0|1538354818000|\"Mozilla/5.0 (Win...|     9|2018-10-01 00:46:58|   0|false|\n",
      "|          Kanye West|Logged In|    Colin|     M|           64| Freeman|311.84934| paid|     Bakersfield, CA|   PUT|       NextSong|1538173362000|       29|            Stronger|     0|1538354945000|Mozilla/5.0 (Wind...|    30|2018-10-01 00:49:05|   0|false|\n",
      "|              Eminem|Logged In|    Alexi|     F|            5|  Warren|269.03465| paid|Spokane-Spokane V...|   PUT|       NextSong|1532482662000|       53|          My Name Is|     1|1538354985000|Mozilla/5.0 (Wind...|    54|2018-10-01 00:49:45|   0| true|\n",
      "|  Charttraxx Karaoke|Logged In|  Ashlynn|     F|            5|Williams|225.17506| free|     Tallahassee, FL|   PUT|       NextSong|1537365219000|      217|           Fireflies|     0|1538355027000|\"Mozilla/5.0 (Mac...|    74|2018-10-01 00:50:27|   0|false|\n",
      "|   The Acacia Strain|Logged In|    Micah|     M|           93|    Long|178.15465| free|Boston-Cambridge-...|   PUT|       NextSong|1538331630000|        8|  Whoa! Shut It Down|     0|1538355127000|\"Mozilla/5.0 (Win...|     9|2018-10-01 00:52:07|   0|false|\n",
      "|        Hate Eternal|Logged In|  Ashlynn|     F|            6|Williams|207.67302| free|     Tallahassee, FL|   PUT|       NextSong|1537365219000|      217| Spiritual Holocaust|     0|1538355252000|\"Mozilla/5.0 (Mac...|    74|2018-10-01 00:54:12|   0|false|\n",
      "|     Vampire Weekend|Logged In|    Alexi|     F|            6|  Warren|243.04281| paid|Spokane-Spokane V...|   PUT|       NextSong|1532482662000|       53|The Kids Don\u0019t St...|     1|1538355254000|Mozilla/5.0 (Wind...|    54|2018-10-01 00:54:14|   0| true|\n",
      "|                null|Logged In|    Alexi|     F|            7|  Warren|     null| paid|Spokane-Spokane V...|   PUT|      Thumbs Up|1532482662000|       53|                null|     1|1538355255000|Mozilla/5.0 (Wind...|    54|2018-10-01 00:54:15|   0| true|\n",
      "|  Redman / Ready Roc|Logged In|    Colin|     M|           65| Freeman|217.91302| paid|     Bakersfield, CA|   PUT|       NextSong|1538173362000|       29|   Dis Iz Brick City|     0|1538355256000|Mozilla/5.0 (Wind...|    30|2018-10-01 00:54:16|   0|false|\n",
      "|   Scars On Broadway|Logged In|    Micah|     M|           94|    Long|196.12689| free|Boston-Cambridge-...|   PUT|       NextSong|1538331630000|        8|     World Long Gone|     0|1538355305000|\"Mozilla/5.0 (Win...|     9|2018-10-01 00:55:05|   0|false|\n",
      "|                null|Logged In|    Micah|     M|           95|    Long|     null| free|Boston-Cambridge-...|   PUT|    Thumbs Down|1538331630000|        8|                null|     0|1538355306000|\"Mozilla/5.0 (Win...|     9|2018-10-01 00:55:06|   0|false|\n",
      "|      Bram Vermeulen|Logged In|  Ashlynn|     F|            7|Williams|251.42812| free|     Tallahassee, FL|   PUT|       NextSong|1537365219000|      217|               Mamma|     0|1538355459000|\"Mozilla/5.0 (Mac...|    74|2018-10-01 00:57:39|   0|false|\n",
      "|The All-American ...|Logged In|    Colin|     M|           66| Freeman|238.86322| paid|     Bakersfield, CA|   PUT|       NextSong|1538173362000|       29|          Move Along|     0|1538355473000|Mozilla/5.0 (Wind...|    30|2018-10-01 00:57:53|   0|false|\n",
      "+--------------------+---------+---------+------+-------------+--------+---------+-----+--------------------+------+---------------+-------------+---------+--------------------+------+-------------+--------------------+------+-------------------+----+-----+\n",
      "only showing top 50 rows\n",
      "\n"
     ]
    }
   ],
   "source": [
    "# Let us try to have a column status that is 1 when the churn is True and 0 when the churn is False\n",
    "status=udf(lambda x : 1 if x==True else 0 ,IntegerType())\n",
    "df_churn=df_churn.withColumn('status',status('Churn'))\n",
    "df_churn.show(50)"
   ]
  },
  {
   "cell_type": "code",
   "execution_count": 37,
   "metadata": {},
   "outputs": [
    {
     "name": "stdout",
     "output_type": "stream",
     "text": [
      "+------+------+\n",
      "|userId|status|\n",
      "+------+------+\n",
      "|    19|     0|\n",
      "|100005|     1|\n",
      "|200007|     0|\n",
      "|300007|     1|\n",
      "|    50|     0|\n",
      "|200002|     0|\n",
      "|    30|     0|\n",
      "|     8|     0|\n",
      "|100011|     1|\n",
      "|100012|     1|\n",
      "+------+------+\n",
      "only showing top 10 rows\n",
      "\n"
     ]
    }
   ],
   "source": [
    "label=df_churn.select('userId','status').dropDuplicates()\n",
    "label=label.select('userId',label.status.cast(\"int\"))\n",
    "label.show(10)"
   ]
  },
  {
   "cell_type": "markdown",
   "metadata": {},
   "source": [
    "## Putting all the features dataframe together"
   ]
  },
  {
   "cell_type": "code",
   "execution_count": 38,
   "metadata": {},
   "outputs": [],
   "source": [
    "feat_list=[]\n",
    "feat_list.append(songs_played_user)\n",
    "feat_list.append(Errors_per_user)\n",
    "feat_list.append(Friends_per_user)\n",
    "feat_list.append(Songs_added_per_user)\n",
    "feat_list.append(Up_per_user)\n",
    "feat_list.append(Down_per_user)\n",
    "feat_list.append(songs_per_session)\n",
    "feat_list.append(listen_time)\n",
    "feat_list.append(span)\n",
    "feat_list.append(gender)\n",
    "feat_list.append(label)"
   ]
  },
  {
   "cell_type": "code",
   "execution_count": 39,
   "metadata": {},
   "outputs": [
    {
     "name": "stdout",
     "output_type": "stream",
     "text": [
      "+------+\n",
      "|userId|\n",
      "+------+\n",
      "|100010|\n",
      "|200002|\n",
      "|   125|\n",
      "|    51|\n",
      "|   124|\n",
      "|     7|\n",
      "|    54|\n",
      "|    15|\n",
      "|   155|\n",
      "|   132|\n",
      "+------+\n",
      "only showing top 10 rows\n",
      "\n"
     ]
    }
   ],
   "source": [
    "#Get the final dataframe with which we will join all the features\n",
    "df_final=df_churn.select(\"userId\").dropDuplicates()\n",
    "df_final.show(10)"
   ]
  },
  {
   "cell_type": "markdown",
   "metadata": {},
   "source": [
    "### Now we have to write a function using which we can join all the features in the feature list to this dataframe"
   ]
  },
  {
   "cell_type": "code",
   "execution_count": 40,
   "metadata": {},
   "outputs": [],
   "source": [
    "def create_final_df(df1,df2):\n",
    "    df2=df2.withColumnRenamed(\"userId\",\"userIdTemp\")\n",
    "    df=df1.join(df2,df1.userId==df2.userIdTemp,\"left\").drop(\"userIdTemp\")\n",
    "    df=df.fillna(0)\n",
    "    return df"
   ]
  },
  {
   "cell_type": "code",
   "execution_count": 41,
   "metadata": {},
   "outputs": [],
   "source": [
    "#Now let us use this function to create the final dataframe from all our users\n",
    "for feature in feat_list:\n",
    "    df_final=create_final_df(df_final,feature)"
   ]
  },
  {
   "cell_type": "code",
   "execution_count": 42,
   "metadata": {},
   "outputs": [
    {
     "name": "stdout",
     "output_type": "stream",
     "text": [
      "+------+------------+------+-------------+-----------+-----------+-------------+------------------+------------------+------------------+------+------+\n",
      "|userId|songs_played|Errors|Friends_Added|Songs_Added|Up_per_user|Down_per_user|  avg_songs_played|    listening_time|              span|gender|status|\n",
      "+------+------------+------+-------------+-----------+-----------+-------------+------------------+------------------+------------------+------+------+\n",
      "|100010|         275|     0|            4|          7|         17|            5|39.285714285714285| 66940.89735000003|  55.6436574074074|     1|     0|\n",
      "|200002|         387|     0|            4|          8|         21|            6|              64.5| 94008.87593999993| 70.07462962962963|     0|     0|\n",
      "|   125|           8|     0|            0|          0|          0|            0|               8.0|2089.1131000000005| 71.31688657407408|     0|     1|\n",
      "|   124|        4079|     6|           74|        118|        171|           41|145.67857142857142|1012312.0927899999|131.55591435185184|     1|     0|\n",
      "|    51|        2111|     1|           28|         52|        100|           21|             211.1| 523275.8428000004|19.455844907407407|     0|     1|\n",
      "|     7|         150|     1|            1|          5|          7|            1|21.428571428571427| 38034.08710000002| 72.77818287037037|     0|     0|\n",
      "|    15|        1914|     2|           31|         59|         81|           14|136.71428571428572|477307.60581000015|56.513576388888886|     0|     0|\n",
      "|    54|        2841|     1|           33|         72|        163|           29| 81.17142857142858| 711344.9195400011|110.75168981481481|     1|     1|\n",
      "|   155|         820|     3|           11|         24|         58|            3|136.66666666666666|       198779.2919|23.556018518518517|     1|     0|\n",
      "|100014|         257|     0|            6|          7|         17|            3|42.833333333333336| 67703.47208000004| 85.08340277777778|     0|     1|\n",
      "+------+------------+------+-------------+-----------+-----------+-------------+------------------+------------------+------------------+------+------+\n",
      "only showing top 10 rows\n",
      "\n"
     ]
    }
   ],
   "source": [
    "df_final.show(10)"
   ]
  },
  {
   "cell_type": "code",
   "execution_count": 43,
   "metadata": {},
   "outputs": [
    {
     "name": "stdout",
     "output_type": "stream",
     "text": [
      "+------+-----+\n",
      "|status|count|\n",
      "+------+-----+\n",
      "|     1|   52|\n",
      "|     0|  173|\n",
      "+------+-----+\n",
      "\n"
     ]
    }
   ],
   "source": [
    "df_final.groupby(\"status\").count().show()"
   ]
  },
  {
   "cell_type": "markdown",
   "metadata": {},
   "source": [
    "Since,now we have a dataframe that has all the features and the target column \"Status\",let us begin the modelling"
   ]
  },
  {
   "cell_type": "markdown",
   "metadata": {},
   "source": [
    "# Modeling\n",
    "Split the full dataset into train, test, and validation sets. Test out several of the machine learning methods you learned. Evaluate the accuracy of the various models, tuning parameters as necessary. Determine your winning model based on test accuracy and report results on the validation set. Since the churned users are a fairly small subset, I suggest using F1 score as the metric to optimize."
   ]
  },
  {
   "cell_type": "markdown",
   "metadata": {},
   "source": [
    "First,let us create a vector of our features"
   ]
  },
  {
   "cell_type": "code",
   "execution_count": 44,
   "metadata": {},
   "outputs": [],
   "source": [
    "cols=[\"songs_played\",\"Errors\",\"Friends_Added\",\"Songs_Added\",\"Up_per_user\",\"Down_per_user\",\\\n",
    "      \"avg_songs_played\",\"listening_time\",\"span\",\"gender\"]\n",
    "assembler=VectorAssembler(inputCols=cols,outputCol=\"NumFeatures\")\n",
    "df_final=assembler.transform(df_final)"
   ]
  },
  {
   "cell_type": "markdown",
   "metadata": {},
   "source": [
    "Now,let us standardise all the features so that none of the features have undue advantage over the other in predicting the customer churn"
   ]
  },
  {
   "cell_type": "code",
   "execution_count": 45,
   "metadata": {},
   "outputs": [
    {
     "name": "stdout",
     "output_type": "stream",
     "text": [
      "+------+------------+------+-------------+-----------+-----------+-------------+------------------+------------------+------------------+------+------+--------------------+--------------------+\n",
      "|userId|songs_played|Errors|Friends_Added|Songs_Added|Up_per_user|Down_per_user|  avg_songs_played|    listening_time|              span|gender|status|         NumFeatures|      scaledFeatures|\n",
      "+------+------------+------+-------------+-----------+-----------+-------------+------------------+------------------+------------------+------+------+--------------------+--------------------+\n",
      "|100010|         275|     0|            4|          7|         17|            5|39.285714285714285| 66940.89735000003|  55.6436574074074|     1|     0|[275.0,0.0,4.0,7....|[0.24887761207221...|\n",
      "|200002|         387|     0|            4|          8|         21|            6|              64.5| 94008.87593999993| 70.07462962962963|     0|     0|[387.0,0.0,4.0,8....|[0.35023867589799...|\n",
      "|   125|           8|     0|            0|          0|          0|            0|               8.0|2089.1131000000005| 71.31688657407408|     0|     1|(10,[0,6,7,8],[8....|(10,[0,6,7,8],[0....|\n",
      "|   124|        4079|     6|           74|        118|        171|           41|145.67857142857142|1012312.0927899999|131.55591435185184|     1|     0|[4079.0,6.0,74.0,...|[3.69153374415482...|\n",
      "|    51|        2111|     1|           28|         52|        100|           21|             211.1| 523275.8428000004|19.455844907407407|     0|     1|[2111.0,1.0,28.0,...|[1.91047505121618...|\n",
      "|     7|         150|     1|            1|          5|          7|            1|21.428571428571427| 38034.08710000002| 72.77818287037037|     0|     0|[150.0,1.0,1.0,5....|[0.13575142476666...|\n",
      "|    15|        1914|     2|           31|         59|         81|           14|136.71428571428572|477307.60581000015|56.513576388888886|     0|     0|[1914.0,2.0,31.0,...|[1.73218818002263...|\n",
      "|    54|        2841|     1|           33|         72|        163|           29| 81.17142857142858| 711344.9195400011|110.75168981481481|     1|     1|[2841.0,1.0,33.0,...|[2.57113198508062...|\n",
      "|   155|         820|     3|           11|         24|         58|            3|136.66666666666666|       198779.2919|23.556018518518517|     1|     0|[820.0,3.0,11.0,2...|[0.74210778872443...|\n",
      "|100014|         257|     0|            6|          7|         17|            3|42.833333333333336| 67703.47208000004| 85.08340277777778|     0|     1|[257.0,0.0,6.0,7....|[0.23258744110021...|\n",
      "+------+------------+------+-------------+-----------+-----------+-------------+------------------+------------------+------------------+------+------+--------------------+--------------------+\n",
      "only showing top 10 rows\n",
      "\n"
     ]
    }
   ],
   "source": [
    "scaler = StandardScaler(inputCol=\"NumFeatures\", outputCol=\"scaledFeatures\",\n",
    "                        withStd=True, withMean=False)\n",
    "\n",
    "# Compute summary statistics by fitting the StandardScaler\n",
    "scalerModel = scaler.fit(df_final)\n",
    "\n",
    "# Normalize each feature to have unit standard deviation.\n",
    "df_final = scalerModel.transform(df_final)\n",
    "df_final.show(10)\n",
    "\n"
   ]
  },
  {
   "cell_type": "markdown",
   "metadata": {},
   "source": [
    "Now let us try modelling our data using different supervised learning algorithm.Before doing that let us split the data into training and validation dataset"
   ]
  },
  {
   "cell_type": "code",
   "execution_count": 46,
   "metadata": {},
   "outputs": [],
   "source": [
    "data=df_final.select(df_final.status.alias(\"label\"),df_final.scaledFeatures.alias(\"features\"))"
   ]
  },
  {
   "cell_type": "code",
   "execution_count": 47,
   "metadata": {},
   "outputs": [
    {
     "name": "stdout",
     "output_type": "stream",
     "text": [
      "+-----+--------------------+\n",
      "|label|            features|\n",
      "+-----+--------------------+\n",
      "|    0|[0.24887761207221...|\n",
      "|    0|[0.35023867589799...|\n",
      "|    1|(10,[0,6,7,8],[0....|\n",
      "|    0|[3.69153374415482...|\n",
      "|    1|[1.91047505121618...|\n",
      "|    0|[0.13575142476666...|\n",
      "|    0|[1.73218818002263...|\n",
      "|    1|[2.57113198508062...|\n",
      "|    0|[0.74210778872443...|\n",
      "|    1|[0.23258744110021...|\n",
      "+-----+--------------------+\n",
      "only showing top 10 rows\n",
      "\n"
     ]
    }
   ],
   "source": [
    "data.show(10)"
   ]
  },
  {
   "cell_type": "code",
   "execution_count": 63,
   "metadata": {},
   "outputs": [],
   "source": [
    "train,validation=data.randomSplit([0.8,0.2],seed=42)"
   ]
  },
  {
   "cell_type": "markdown",
   "metadata": {},
   "source": [
    "Now,let us use different supervised learning techniques to predict Customer Churn"
   ]
  },
  {
   "cell_type": "markdown",
   "metadata": {},
   "source": [
    "### Logistic Regresion"
   ]
  },
  {
   "cell_type": "code",
   "execution_count": 65,
   "metadata": {},
   "outputs": [],
   "source": [
    "#Initialising the model\n",
    "lr=LogisticRegression(maxIter=10)\n",
    "\n",
    "#Now,since the number of churned users are a lot more than the unchurned users,we will use F1 score as the metric\n",
    "f1_score=MulticlassClassificationEvaluator(metricName='f1')\n",
    "\n",
    "#Building a parameter grid\n",
    "paramGrid=ParamGridBuilder()\\\n",
    "          .build()\n",
    "\n",
    "\n",
    "crossval_lr=CrossValidator(estimator=lr,\n",
    "                          evaluator=f1_score,\n",
    "                          estimatorParamMaps=paramGrid,\n",
    "                          numFolds=3)"
   ]
  },
  {
   "cell_type": "code",
   "execution_count": 66,
   "metadata": {},
   "outputs": [],
   "source": [
    "#Let us fit the training dataset using this logistic regression model\n",
    "lrmodel=crossval_lr.fit(train)\n",
    "#Let us use this logistic regression model on the validation set\n",
    "results_lr=lrmodel.transform(validation)\n"
   ]
  },
  {
   "cell_type": "code",
   "execution_count": 67,
   "metadata": {},
   "outputs": [
    {
     "name": "stdout",
     "output_type": "stream",
     "text": [
      "Accuracy\n",
      "0.7352941176470589\n",
      "F-1 score\n",
      "0.6479031804109204\n"
     ]
    }
   ],
   "source": [
    "evaluator=MulticlassClassificationEvaluator(predictionCol=\"prediction\")\n",
    "print(\"Accuracy\")\n",
    "print(evaluator.evaluate(results_lr,{evaluator.metricName: \"accuracy\"}))\n",
    "print(\"F-1 score\")\n",
    "print(evaluator.evaluate(results_lr, {evaluator.metricName: \"f1\"}))"
   ]
  },
  {
   "cell_type": "markdown",
   "metadata": {},
   "source": [
    "### Random Forest"
   ]
  },
  {
   "cell_type": "code",
   "execution_count": 68,
   "metadata": {},
   "outputs": [],
   "source": [
    "#Initialising the model\n",
    "rf=RandomForestClassifier()\n",
    "\n",
    "#Now,since the number of churned users are a lot more than the unchurned users,we will use F1 score as the metric\n",
    "f1_score=MulticlassClassificationEvaluator(metricName='f1')\n",
    "\n",
    "#Building a parameter grid\n",
    "paramGrid=ParamGridBuilder()\\\n",
    "          .build()\n",
    "\n",
    "\n",
    "crossval_rf=CrossValidator(estimator=rf,\n",
    "                          evaluator=f1_score,\n",
    "                          estimatorParamMaps=paramGrid,\n",
    "                          numFolds=3)"
   ]
  },
  {
   "cell_type": "code",
   "execution_count": 69,
   "metadata": {},
   "outputs": [],
   "source": [
    "#Let us fit the training dataset using this logistic regression model\n",
    "rfmodel=crossval_rf.fit(train)\n",
    "#Let us use this logistic regression model on the validation set\n",
    "results_rf=rfmodel.transform(validation)"
   ]
  },
  {
   "cell_type": "code",
   "execution_count": 70,
   "metadata": {},
   "outputs": [
    {
     "name": "stdout",
     "output_type": "stream",
     "text": [
      "Accuracy\n",
      "0.7647058823529411\n",
      "F-1 score\n",
      "0.7273576097105509\n"
     ]
    }
   ],
   "source": [
    "evaluator=MulticlassClassificationEvaluator(predictionCol=\"prediction\")\n",
    "print(\"Accuracy\")\n",
    "print(evaluator.evaluate(results_rf,{evaluator.metricName: \"accuracy\"}))\n",
    "print(\"F-1 score\")\n",
    "print(evaluator.evaluate(results_rf, {evaluator.metricName: \"f1\"}))"
   ]
  },
  {
   "cell_type": "markdown",
   "metadata": {},
   "source": [
    "### Gradient Boosted Tree"
   ]
  },
  {
   "cell_type": "code",
   "execution_count": 71,
   "metadata": {},
   "outputs": [],
   "source": [
    "# initialize classifier\n",
    "gb = GBTClassifier(maxIter=10,seed=42)\n",
    "\n",
    "#Now,since the number of churned users are a lot more than the unchurned users,we will use F1 score as the metric\n",
    "f1_score=MulticlassClassificationEvaluator(metricName='f1')\n",
    "\n",
    "#Building a parameter grid\n",
    "paramGrid=ParamGridBuilder()\\\n",
    "          .build()\n",
    "\n",
    "\n",
    "crossval_gb=CrossValidator(estimator=gb,\n",
    "                          evaluator=f1_score,\n",
    "                          estimatorParamMaps=paramGrid,\n",
    "                          numFolds=3)"
   ]
  },
  {
   "cell_type": "code",
   "execution_count": 72,
   "metadata": {},
   "outputs": [],
   "source": [
    "#Let us fit the training dataset using this model\n",
    "gbmodel=crossval_gb.fit(train)\n",
    "#Let us use this model on the validation set\n",
    "results_gb=gbmodel.transform(validation)"
   ]
  },
  {
   "cell_type": "code",
   "execution_count": 73,
   "metadata": {},
   "outputs": [
    {
     "name": "stdout",
     "output_type": "stream",
     "text": [
      "Accuracy\n",
      "0.6470588235294118\n",
      "F-1 score\n",
      "0.5910364145658262\n"
     ]
    }
   ],
   "source": [
    "evaluator=MulticlassClassificationEvaluator(predictionCol=\"prediction\")\n",
    "print(\"Accuracy\")\n",
    "print(evaluator.evaluate(results_gb,{evaluator.metricName: \"accuracy\"}))\n",
    "print(\"F-1 score\")\n",
    "print(evaluator.evaluate(results_gb, {evaluator.metricName: \"f1\"}))"
   ]
  },
  {
   "cell_type": "markdown",
   "metadata": {},
   "source": [
    "### Hyperparameter Tuning:\n",
    "Now,since Random Forest has the best F-1 score,we will perform Hyper parameter Tuning on random forest model"
   ]
  },
  {
   "cell_type": "code",
   "execution_count": 74,
   "metadata": {},
   "outputs": [],
   "source": [
    "#Initialising the model\n",
    "rf=RandomForestClassifier()\n",
    "\n",
    "#Now,since the number of churned users are a lot more than the unchurned users,we will use F1 score as the metric\n",
    "f1_score=MulticlassClassificationEvaluator(metricName='f1')\n",
    "\n",
    "paramGrid = ParamGridBuilder() \\\n",
    "    .addGrid(rf.numTrees, [int(x) for x in np.linspace(start = 10, stop = 50, num = 3)]) \\\n",
    "    .addGrid(rf.maxDepth, [int(x) for x in np.linspace(start = 5, stop = 25, num = 3)]) \\\n",
    "    .build()\n",
    "\n",
    "crossval_rf=CrossValidator(estimator=rf,\n",
    "                          evaluator=f1_score,\n",
    "                          estimatorParamMaps=paramGrid,\n",
    "                          numFolds=3)"
   ]
  },
  {
   "cell_type": "code",
   "execution_count": 75,
   "metadata": {},
   "outputs": [],
   "source": [
    "#Let us fit the training dataset using this logistic regression model\n",
    "rfmodel=crossval_rf.fit(train)\n",
    "#Let us use this logistic regression model on the validation set\n",
    "results_rf=rfmodel.transform(validation)"
   ]
  },
  {
   "cell_type": "code",
   "execution_count": 76,
   "metadata": {},
   "outputs": [
    {
     "name": "stdout",
     "output_type": "stream",
     "text": [
      "Accuracy\n",
      "0.7941176470588235\n",
      "F-1 score\n",
      "0.7517893870835047\n"
     ]
    }
   ],
   "source": [
    "evaluator=MulticlassClassificationEvaluator(predictionCol=\"prediction\")\n",
    "print(\"Accuracy\")\n",
    "print(evaluator.evaluate(results_rf,{evaluator.metricName: \"accuracy\"}))\n",
    "print(\"F-1 score\")\n",
    "print(evaluator.evaluate(results_rf, {evaluator.metricName: \"f1\"}))"
   ]
  },
  {
   "cell_type": "markdown",
   "metadata": {},
   "source": [
    "So,now we can see that the F-1 score after hyper parameter tuning is 0.75 which is better than 0.72.Now since,we have a well tuned model,let us see the features that are important in predicting the customer churn"
   ]
  },
  {
   "cell_type": "markdown",
   "metadata": {},
   "source": [
    "### Important Features"
   ]
  },
  {
   "cell_type": "code",
   "execution_count": 85,
   "metadata": {},
   "outputs": [
    {
     "data": {
      "image/png": "[encoded data removed]",
      "text/plain": [
       "<matplotlib.figure.Figure at 0x7f4cb10df198>"
      ]
     },
     "metadata": {
      "needs_background": "light"
     },
     "output_type": "display_data"
    }
   ],
   "source": [
    "bestModel=rfmodel.bestModel\n",
    "importances=bestModel.featureImportances\n",
    "\n",
    "y_pos = np.arange(len(cols)) \n",
    "plt.barh(y_pos, importances, align='center')\n",
    "plt.yticks(y_pos, cols)\n",
    "plt.xlabel('Importance Score')\n",
    "plt.ylabel('Features')\n",
    "plt.title('Tuned RF Feature Importances');"
   ]
  },
  {
   "cell_type": "markdown",
   "metadata": {},
   "source": [
    "So, from the visual above we can see that the most important features that play an important role in predicting customer churn are as follows:\n",
    "#### 1)Span-The time for which a customer is using our application\n",
    "#### 2)Down_per_user-Which meand the number of thumbs down done by the users\n",
    "#### 3)Friends_added-The number of rriends added by the users\n",
    "#### 4)Songs_played-The number of songs played by the users"
   ]
  },
  {
   "cell_type": "markdown",
   "metadata": {},
   "source": [
    "# Conclusion\n",
    "\n",
    "#### 1) We have successfully been able to predict the customer churn using pyspark with F-1 sore of 0.75.\n",
    "#### 2)Different supervised classification methods such as Random Forest,Gradient Boosted Tree and Logistic regression were used to predict customer churn.Random Forest performed the best in predicting customer churn\n",
    "#### 3)The most important features in predicting the customer churn are:the lifetime of the customer,the number of songs played by them,the number of thumbs down and the number of friends added."
   ]
  },
  {
   "cell_type": "markdown",
   "metadata": {},
   "source": [
    "# Final Steps\n",
    "Clean up your code, adding comments and renaming variables to make the code easier to read and maintain. Refer to the Spark Project Overview page and Data Scientist Capstone Project Rubric to make sure you are including all components of the capstone project and meet all expectations. Remember, this includes thorough documentation in a README file in a Github repository, as well as a web app or blog post."
   ]
  },
  {
   "cell_type": "code",
   "execution_count": null,
   "metadata": {},
   "outputs": [],
   "source": []
  }
 ],
 "metadata": {
  "kernelspec": {
   "display_name": "Python 3",
   "language": "python",
   "name": "python3"
  },
  "language_info": {
   "codemirror_mode": {
    "name": "ipython",
    "version": 3
   },
   "file_extension": ".py",
   "mimetype": "text/x-python",
   "name": "python",
   "nbconvert_exporter": "python",
   "pygments_lexer": "ipython3",
   "version": "3.6.3"
  }
 },
 "nbformat": 4,
 "nbformat_minor": 2
}
